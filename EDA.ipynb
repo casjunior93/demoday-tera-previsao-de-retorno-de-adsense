{
  "nbformat": 4,
  "nbformat_minor": 0,
  "metadata": {
    "colab": {
      "name": "Cópia de Projeto Tera.ipynb",
      "provenance": [],
      "collapsed_sections": [],
      "authorship_tag": "ABX9TyON0UA0GpDVr+GL7WI14ScC",
      "include_colab_link": true
    },
    "kernelspec": {
      "name": "python3",
      "display_name": "Python 3"
    },
    "language_info": {
      "name": "python"
    }
  },
  "cells": [
    {
      "cell_type": "markdown",
      "metadata": {
        "id": "view-in-github",
        "colab_type": "text"
      },
      "source": [
        "<a href=\"https://colab.research.google.com/github/casjunior93/demoday-tera-previsao-de-retorno-de-adsense/blob/main/EDA.ipynb\" target=\"_parent\"><img src=\"https://colab.research.google.com/assets/colab-badge.svg\" alt=\"Open In Colab\"/></a>"
      ]
    },
    {
      "cell_type": "markdown",
      "source": [
        "Habilitando o acesso ao Google Drive no Colab."
      ],
      "metadata": {
        "id": "zfZEVYN5RV8Q"
      }
    },
    {
      "cell_type": "code",
      "execution_count": 1,
      "metadata": {
        "id": "pT0eWMaPJnZ1",
        "colab": {
          "base_uri": "https://localhost:8080/"
        },
        "outputId": "7fef6236-f870-40eb-9a44-da08bd352257"
      },
      "outputs": [
        {
          "output_type": "stream",
          "name": "stdout",
          "text": [
            "Mounted at /content/drive\n"
          ]
        }
      ],
      "source": [
        "from google.colab import drive\n",
        "drive.mount('/content/drive')"
      ]
    },
    {
      "cell_type": "markdown",
      "source": [
        "# Bibliotecas fundamentais"
      ],
      "metadata": {
        "id": "WGjkb0TSRenQ"
      }
    },
    {
      "cell_type": "code",
      "source": [
        "import numpy as np\n",
        "import pandas as pd\n",
        "import seaborn as sns\n",
        "import matplotlib.pyplot as plt\n",
        "import warnings\n",
        "warnings.filterwarnings('ignore')\n",
        "\n",
        "#Configura o pandas para não exibir resultados em notação científica\n",
        "pd.options.display.float_format = '{:.2f}'.format\n",
        "\n",
        "# Módulos de DataPrep\n",
        "from sklearn.preprocessing import StandardScaler, MinMaxScaler\n",
        "from sklearn.model_selection import cross_val_score, train_test_split\n",
        "import missingno as msno\n",
        "\n",
        "import warnings\n",
        "warnings.filterwarnings('ignore')\n",
        "\n",
        "# Modelos de regressão que iremos testar\n",
        "from sklearn.linear_model import LinearRegression, Ridge, Lasso\n",
        "from sklearn.tree import DecisionTreeRegressor\n",
        "from sklearn.ensemble import RandomForestRegressor, GradientBoostingRegressor\n",
        "from lightgbm import LGBMRegressor\n",
        "\n",
        "plt.rc('xtick', labelsize=18) \n",
        "plt.rc('ytick', labelsize=18) \n",
        "\n",
        "# Métricas\n",
        "from sklearn.metrics import mean_squared_error, mean_absolute_error\n",
        "\n",
        "#Configura o pandas para não exibir resultados em notação científica\n",
        "pd.options.display.float_format = '{:.2f}'.format\n",
        "\n",
        "#Testes\n",
        "import scipy.stats as stats\n",
        "from scipy.stats import mannwhitneyu, ttest_ind"
      ],
      "metadata": {
        "id": "kgT_lu97RZNM"
      },
      "execution_count": 2,
      "outputs": []
    },
    {
      "cell_type": "markdown",
      "source": [
        "# Roteiro do Projeto"
      ],
      "metadata": {
        "id": "BjI7ggfBRjCm"
      }
    },
    {
      "cell_type": "markdown",
      "source": [
        "O livro [Mãos à Obra: Aprendizado de Máquina com Scikit-Learn, Keras & TensorFlow](https://www.oreilly.com/library/view/maos-a-obra/9788550803814/) traz uma sugestão de roteiro para orientar um projeto de aprendizado de máquina. Os passos gerais são:\n",
        "\n",
        "1. Abordar o problema e analisar o panorama em geral\n",
        "2. Obter os dados\n",
        "3. Explorar os dados para obter informações úteis\n",
        "4. Preparar os dados para expor melhor os padrões de dados subjacentes aos algoritmos de aprendizado de máquina.\n",
        "5. Explorar modelos diferentes e selecionar os melhores.\n",
        "6. Aperfeiçoar os modelos e os combinar em uma solução ideal.\n",
        "7. Apresentar a solução.\n",
        "8. Implementar, monitorar e fazer a manutenção de seu sistema."
      ],
      "metadata": {
        "id": "ya7dVfIERm67"
      }
    },
    {
      "cell_type": "markdown",
      "source": [
        "# 1: Abordar o problema e analisar o panorama em geral"
      ],
      "metadata": {
        "id": "qHJFjXVuR-Z8"
      }
    },
    {
      "cell_type": "markdown",
      "source": [
        "**Objetivo:** Criar um modelo de previsão para monetização e pagamentos de influenciadores digitais.\n",
        "\n",
        "**Público alvo:** Gestores de Redes Multicanal (MCNs) de criadores do YouTube. \n",
        "\n",
        "**Problema do usuário:** Não existe hoje nenhum modelo de previsão para que gestores de redes multicanal (MCNs) consigam realizar de maneira eficiente a previsão de pagamentos de valores recebidos pela plataforma de monetização do YouTube para canais afiliados e YouTube Creators.\n",
        "\n",
        "**Solução:** Criarmos um modelo de análise para prever o retorno de Adsense baseado no histórico do influenciador.\n",
        "\n"
      ],
      "metadata": {
        "id": "I-Au8ziuVAPr"
      }
    },
    {
      "cell_type": "markdown",
      "source": [
        "# 2: Obter os dados"
      ],
      "metadata": {
        "id": "dsE7i2FNSGGm"
      }
    },
    {
      "cell_type": "code",
      "source": [
        "# Carregando os dados para treinamento do modelo\n",
        "dados = pd.read_csv('/content/drive/MyDrive/ARQUIVOS TERA/Projeto Tera/Dados csv/porcentagem-visualizacao.csv',sep=',')\n",
        "dados1 = pd.read_csv('/content/drive/MyDrive/ARQUIVOS TERA/Projeto Tera/Dados csv/inscritos.csv',sep=',')\n",
        "dados2 = pd.read_csv('/content/drive/MyDrive/ARQUIVOS TERA/Projeto Tera/Dados csv/videos-publicados.csv',sep=',')\n",
        "dados3 = pd.read_csv('/content/drive/MyDrive/ARQUIVOS TERA/Projeto Tera/Dados csv/visualizacoes.csv',sep=',')\n",
        "receita = pd.read_csv('/content/drive/MyDrive/ARQUIVOS TERA/Projeto Tera/Dados csv/receita.csv',sep=',')\n",
        "receita_est_adsense = pd.read_csv('/content/drive/MyDrive/ARQUIVOS TERA/Projeto Tera/Dados csv/receita-est-adsense.csv',sep=',')"
      ],
      "metadata": {
        "id": "EQfO3OLzSJHI"
      },
      "execution_count": 3,
      "outputs": []
    },
    {
      "cell_type": "markdown",
      "source": [
        "# 3: Explorar os dados para obter informações úteis"
      ],
      "metadata": {
        "id": "gTm6hAHiSMEM"
      }
    },
    {
      "cell_type": "markdown",
      "source": [
        "## 3.1 Porcentagem visualizada média (%)"
      ],
      "metadata": {
        "id": "QOtLmMPE-XU-"
      }
    },
    {
      "cell_type": "markdown",
      "source": [
        "### 3.1.1 Dados"
      ],
      "metadata": {
        "id": "bjYJ5M4Q-fRi"
      }
    },
    {
      "cell_type": "code",
      "source": [
        "dados.head(2)"
      ],
      "metadata": {
        "id": "yKsOriP9SNaa",
        "colab": {
          "base_uri": "https://localhost:8080/",
          "height": 112
        },
        "outputId": "4e042bb5-47bb-4df3-ea77-b40c6a76aab4"
      },
      "execution_count": 4,
      "outputs": [
        {
          "output_type": "execute_result",
          "data": {
            "text/plain": [
              "         Data                     Canal Título do canal  \\\n",
              "0  2013-06-11  UCFjrDmEnxrG5TRGVO0TPHLA        Numero 1   \n",
              "1  2013-06-12  UCFjrDmEnxrG5TRGVO0TPHLA        Numero 1   \n",
              "\n",
              "   Porcentagem visualizada média (%)  \n",
              "0                               0.00  \n",
              "1                               0.00  "
            ],
            "text/html": [
              "\n",
              "  <div id=\"df-55ac5f5c-6d5f-4f2b-96f5-bbb356e73339\">\n",
              "    <div class=\"colab-df-container\">\n",
              "      <div>\n",
              "<style scoped>\n",
              "    .dataframe tbody tr th:only-of-type {\n",
              "        vertical-align: middle;\n",
              "    }\n",
              "\n",
              "    .dataframe tbody tr th {\n",
              "        vertical-align: top;\n",
              "    }\n",
              "\n",
              "    .dataframe thead th {\n",
              "        text-align: right;\n",
              "    }\n",
              "</style>\n",
              "<table border=\"1\" class=\"dataframe\">\n",
              "  <thead>\n",
              "    <tr style=\"text-align: right;\">\n",
              "      <th></th>\n",
              "      <th>Data</th>\n",
              "      <th>Canal</th>\n",
              "      <th>Título do canal</th>\n",
              "      <th>Porcentagem visualizada média (%)</th>\n",
              "    </tr>\n",
              "  </thead>\n",
              "  <tbody>\n",
              "    <tr>\n",
              "      <th>0</th>\n",
              "      <td>2013-06-11</td>\n",
              "      <td>UCFjrDmEnxrG5TRGVO0TPHLA</td>\n",
              "      <td>Numero 1</td>\n",
              "      <td>0.00</td>\n",
              "    </tr>\n",
              "    <tr>\n",
              "      <th>1</th>\n",
              "      <td>2013-06-12</td>\n",
              "      <td>UCFjrDmEnxrG5TRGVO0TPHLA</td>\n",
              "      <td>Numero 1</td>\n",
              "      <td>0.00</td>\n",
              "    </tr>\n",
              "  </tbody>\n",
              "</table>\n",
              "</div>\n",
              "      <button class=\"colab-df-convert\" onclick=\"convertToInteractive('df-55ac5f5c-6d5f-4f2b-96f5-bbb356e73339')\"\n",
              "              title=\"Convert this dataframe to an interactive table.\"\n",
              "              style=\"display:none;\">\n",
              "        \n",
              "  <svg xmlns=\"http://www.w3.org/2000/svg\" height=\"24px\"viewBox=\"0 0 24 24\"\n",
              "       width=\"24px\">\n",
              "    <path d=\"M0 0h24v24H0V0z\" fill=\"none\"/>\n",
              "    <path d=\"M18.56 5.44l.94 2.06.94-2.06 2.06-.94-2.06-.94-.94-2.06-.94 2.06-2.06.94zm-11 1L8.5 8.5l.94-2.06 2.06-.94-2.06-.94L8.5 2.5l-.94 2.06-2.06.94zm10 10l.94 2.06.94-2.06 2.06-.94-2.06-.94-.94-2.06-.94 2.06-2.06.94z\"/><path d=\"M17.41 7.96l-1.37-1.37c-.4-.4-.92-.59-1.43-.59-.52 0-1.04.2-1.43.59L10.3 9.45l-7.72 7.72c-.78.78-.78 2.05 0 2.83L4 21.41c.39.39.9.59 1.41.59.51 0 1.02-.2 1.41-.59l7.78-7.78 2.81-2.81c.8-.78.8-2.07 0-2.86zM5.41 20L4 18.59l7.72-7.72 1.47 1.35L5.41 20z\"/>\n",
              "  </svg>\n",
              "      </button>\n",
              "      \n",
              "  <style>\n",
              "    .colab-df-container {\n",
              "      display:flex;\n",
              "      flex-wrap:wrap;\n",
              "      gap: 12px;\n",
              "    }\n",
              "\n",
              "    .colab-df-convert {\n",
              "      background-color: #E8F0FE;\n",
              "      border: none;\n",
              "      border-radius: 50%;\n",
              "      cursor: pointer;\n",
              "      display: none;\n",
              "      fill: #1967D2;\n",
              "      height: 32px;\n",
              "      padding: 0 0 0 0;\n",
              "      width: 32px;\n",
              "    }\n",
              "\n",
              "    .colab-df-convert:hover {\n",
              "      background-color: #E2EBFA;\n",
              "      box-shadow: 0px 1px 2px rgba(60, 64, 67, 0.3), 0px 1px 3px 1px rgba(60, 64, 67, 0.15);\n",
              "      fill: #174EA6;\n",
              "    }\n",
              "\n",
              "    [theme=dark] .colab-df-convert {\n",
              "      background-color: #3B4455;\n",
              "      fill: #D2E3FC;\n",
              "    }\n",
              "\n",
              "    [theme=dark] .colab-df-convert:hover {\n",
              "      background-color: #434B5C;\n",
              "      box-shadow: 0px 1px 3px 1px rgba(0, 0, 0, 0.15);\n",
              "      filter: drop-shadow(0px 1px 2px rgba(0, 0, 0, 0.3));\n",
              "      fill: #FFFFFF;\n",
              "    }\n",
              "  </style>\n",
              "\n",
              "      <script>\n",
              "        const buttonEl =\n",
              "          document.querySelector('#df-55ac5f5c-6d5f-4f2b-96f5-bbb356e73339 button.colab-df-convert');\n",
              "        buttonEl.style.display =\n",
              "          google.colab.kernel.accessAllowed ? 'block' : 'none';\n",
              "\n",
              "        async function convertToInteractive(key) {\n",
              "          const element = document.querySelector('#df-55ac5f5c-6d5f-4f2b-96f5-bbb356e73339');\n",
              "          const dataTable =\n",
              "            await google.colab.kernel.invokeFunction('convertToInteractive',\n",
              "                                                     [key], {});\n",
              "          if (!dataTable) return;\n",
              "\n",
              "          const docLinkHtml = 'Like what you see? Visit the ' +\n",
              "            '<a target=\"_blank\" href=https://colab.research.google.com/notebooks/data_table.ipynb>data table notebook</a>'\n",
              "            + ' to learn more about interactive tables.';\n",
              "          element.innerHTML = '';\n",
              "          dataTable['output_type'] = 'display_data';\n",
              "          await google.colab.output.renderOutput(dataTable, element);\n",
              "          const docLink = document.createElement('div');\n",
              "          docLink.innerHTML = docLinkHtml;\n",
              "          element.appendChild(docLink);\n",
              "        }\n",
              "      </script>\n",
              "    </div>\n",
              "  </div>\n",
              "  "
            ]
          },
          "metadata": {},
          "execution_count": 4
        }
      ]
    },
    {
      "cell_type": "markdown",
      "source": [
        "### 3.1.2 Visualização dos dados"
      ],
      "metadata": {
        "id": "aNPmR7wZCkv4"
      }
    },
    {
      "cell_type": "code",
      "source": [
        "plt.figure(figsize=(10,4))\n",
        "sns.histplot(dados['Porcentagem visualizada média (%)'])\n",
        "plt.xlabel('Porcentagem visualizada média',size=16)\n",
        "plt.ylabel('%',size=16)\n",
        "plt.title('Porcentagem visualizada média',size=16)\n",
        "plt.show()"
      ],
      "metadata": {
        "id": "zBOqrCbECq-D",
        "outputId": "bd57769e-f61f-46fa-f11e-d3cafd60fbfd",
        "colab": {
          "base_uri": "https://localhost:8080/",
          "height": 312
        }
      },
      "execution_count": 5,
      "outputs": [
        {
          "output_type": "display_data",
          "data": {
            "text/plain": [
              "<Figure size 720x288 with 1 Axes>"
            ],
            "image/png": "[encoded data removed]"
          },
          "metadata": {
            "needs_background": "light"
          }
        }
      ]
    },
    {
      "cell_type": "code",
      "source": [
        "plt.figure(figsize=(10,4))\n",
        "sns.boxplot(dados['Porcentagem visualizada média (%)'])\n",
        "plt.xlabel('Porcentagem visualizada média',size=16)\n",
        "plt.title('Porcentagem visualizada média',size=16)\n",
        "plt.show()"
      ],
      "metadata": {
        "colab": {
          "base_uri": "https://localhost:8080/",
          "height": 312
        },
        "id": "gk_fIkrk9S1j",
        "outputId": "3e727439-074c-4d24-ef75-1bc55fd82e93"
      },
      "execution_count": 6,
      "outputs": [
        {
          "output_type": "display_data",
          "data": {
            "text/plain": [
              "<Figure size 720x288 with 1 Axes>"
            ],
            "image/png": "[encoded data removed]"
          },
          "metadata": {
            "needs_background": "light"
          }
        }
      ]
    },
    {
      "cell_type": "markdown",
      "source": [
        "## 3.2 Inscritos"
      ],
      "metadata": {
        "id": "8GL7S09vC-t0"
      }
    },
    {
      "cell_type": "markdown",
      "source": [
        "### 3.2.1 Dados"
      ],
      "metadata": {
        "id": "Mlve6pRmDa9r"
      }
    },
    {
      "cell_type": "code",
      "source": [
        "dados1.tail(10)"
      ],
      "metadata": {
        "colab": {
          "base_uri": "https://localhost:8080/",
          "height": 363
        },
        "id": "Mqpy0GYVk1y5",
        "outputId": "1200d07d-d730-405e-ff6a-9d9be6d135a3"
      },
      "execution_count": 7,
      "outputs": [
        {
          "output_type": "execute_result",
          "data": {
            "text/plain": [
              "            Data                     Canal Título do canal  Inscritos\n",
              "3272  2022-05-27  UCFjrDmEnxrG5TRGVO0TPHLA        Numero 1        413\n",
              "3273  2022-05-28  UCFjrDmEnxrG5TRGVO0TPHLA        Numero 1        391\n",
              "3274  2022-05-29  UCFjrDmEnxrG5TRGVO0TPHLA        Numero 1        580\n",
              "3275  2022-05-30  UCFjrDmEnxrG5TRGVO0TPHLA        Numero 1        803\n",
              "3276  2022-05-31  UCFjrDmEnxrG5TRGVO0TPHLA        Numero 1        795\n",
              "3277  2022-06-01  UCFjrDmEnxrG5TRGVO0TPHLA        Numero 1        916\n",
              "3278  2022-06-02  UCFjrDmEnxrG5TRGVO0TPHLA        Numero 1        895\n",
              "3279  2022-06-03  UCFjrDmEnxrG5TRGVO0TPHLA        Numero 1        804\n",
              "3280  2022-06-04  UCFjrDmEnxrG5TRGVO0TPHLA        Numero 1        845\n",
              "3281  2022-06-05  UCFjrDmEnxrG5TRGVO0TPHLA        Numero 1       1040"
            ],
            "text/html": [
              "\n",
              "  <div id=\"df-bb4ae417-20b0-4511-8cf2-4be65004b2f3\">\n",
              "    <div class=\"colab-df-container\">\n",
              "      <div>\n",
              "<style scoped>\n",
              "    .dataframe tbody tr th:only-of-type {\n",
              "        vertical-align: middle;\n",
              "    }\n",
              "\n",
              "    .dataframe tbody tr th {\n",
              "        vertical-align: top;\n",
              "    }\n",
              "\n",
              "    .dataframe thead th {\n",
              "        text-align: right;\n",
              "    }\n",
              "</style>\n",
              "<table border=\"1\" class=\"dataframe\">\n",
              "  <thead>\n",
              "    <tr style=\"text-align: right;\">\n",
              "      <th></th>\n",
              "      <th>Data</th>\n",
              "      <th>Canal</th>\n",
              "      <th>Título do canal</th>\n",
              "      <th>Inscritos</th>\n",
              "    </tr>\n",
              "  </thead>\n",
              "  <tbody>\n",
              "    <tr>\n",
              "      <th>3272</th>\n",
              "      <td>2022-05-27</td>\n",
              "      <td>UCFjrDmEnxrG5TRGVO0TPHLA</td>\n",
              "      <td>Numero 1</td>\n",
              "      <td>413</td>\n",
              "    </tr>\n",
              "    <tr>\n",
              "      <th>3273</th>\n",
              "      <td>2022-05-28</td>\n",
              "      <td>UCFjrDmEnxrG5TRGVO0TPHLA</td>\n",
              "      <td>Numero 1</td>\n",
              "      <td>391</td>\n",
              "    </tr>\n",
              "    <tr>\n",
              "      <th>3274</th>\n",
              "      <td>2022-05-29</td>\n",
              "      <td>UCFjrDmEnxrG5TRGVO0TPHLA</td>\n",
              "      <td>Numero 1</td>\n",
              "      <td>580</td>\n",
              "    </tr>\n",
              "    <tr>\n",
              "      <th>3275</th>\n",
              "      <td>2022-05-30</td>\n",
              "      <td>UCFjrDmEnxrG5TRGVO0TPHLA</td>\n",
              "      <td>Numero 1</td>\n",
              "      <td>803</td>\n",
              "    </tr>\n",
              "    <tr>\n",
              "      <th>3276</th>\n",
              "      <td>2022-05-31</td>\n",
              "      <td>UCFjrDmEnxrG5TRGVO0TPHLA</td>\n",
              "      <td>Numero 1</td>\n",
              "      <td>795</td>\n",
              "    </tr>\n",
              "    <tr>\n",
              "      <th>3277</th>\n",
              "      <td>2022-06-01</td>\n",
              "      <td>UCFjrDmEnxrG5TRGVO0TPHLA</td>\n",
              "      <td>Numero 1</td>\n",
              "      <td>916</td>\n",
              "    </tr>\n",
              "    <tr>\n",
              "      <th>3278</th>\n",
              "      <td>2022-06-02</td>\n",
              "      <td>UCFjrDmEnxrG5TRGVO0TPHLA</td>\n",
              "      <td>Numero 1</td>\n",
              "      <td>895</td>\n",
              "    </tr>\n",
              "    <tr>\n",
              "      <th>3279</th>\n",
              "      <td>2022-06-03</td>\n",
              "      <td>UCFjrDmEnxrG5TRGVO0TPHLA</td>\n",
              "      <td>Numero 1</td>\n",
              "      <td>804</td>\n",
              "    </tr>\n",
              "    <tr>\n",
              "      <th>3280</th>\n",
              "      <td>2022-06-04</td>\n",
              "      <td>UCFjrDmEnxrG5TRGVO0TPHLA</td>\n",
              "      <td>Numero 1</td>\n",
              "      <td>845</td>\n",
              "    </tr>\n",
              "    <tr>\n",
              "      <th>3281</th>\n",
              "      <td>2022-06-05</td>\n",
              "      <td>UCFjrDmEnxrG5TRGVO0TPHLA</td>\n",
              "      <td>Numero 1</td>\n",
              "      <td>1040</td>\n",
              "    </tr>\n",
              "  </tbody>\n",
              "</table>\n",
              "</div>\n",
              "      <button class=\"colab-df-convert\" onclick=\"convertToInteractive('df-bb4ae417-20b0-4511-8cf2-4be65004b2f3')\"\n",
              "              title=\"Convert this dataframe to an interactive table.\"\n",
              "              style=\"display:none;\">\n",
              "        \n",
              "  <svg xmlns=\"http://www.w3.org/2000/svg\" height=\"24px\"viewBox=\"0 0 24 24\"\n",
              "       width=\"24px\">\n",
              "    <path d=\"M0 0h24v24H0V0z\" fill=\"none\"/>\n",
              "    <path d=\"M18.56 5.44l.94 2.06.94-2.06 2.06-.94-2.06-.94-.94-2.06-.94 2.06-2.06.94zm-11 1L8.5 8.5l.94-2.06 2.06-.94-2.06-.94L8.5 2.5l-.94 2.06-2.06.94zm10 10l.94 2.06.94-2.06 2.06-.94-2.06-.94-.94-2.06-.94 2.06-2.06.94z\"/><path d=\"M17.41 7.96l-1.37-1.37c-.4-.4-.92-.59-1.43-.59-.52 0-1.04.2-1.43.59L10.3 9.45l-7.72 7.72c-.78.78-.78 2.05 0 2.83L4 21.41c.39.39.9.59 1.41.59.51 0 1.02-.2 1.41-.59l7.78-7.78 2.81-2.81c.8-.78.8-2.07 0-2.86zM5.41 20L4 18.59l7.72-7.72 1.47 1.35L5.41 20z\"/>\n",
              "  </svg>\n",
              "      </button>\n",
              "      \n",
              "  <style>\n",
              "    .colab-df-container {\n",
              "      display:flex;\n",
              "      flex-wrap:wrap;\n",
              "      gap: 12px;\n",
              "    }\n",
              "\n",
              "    .colab-df-convert {\n",
              "      background-color: #E8F0FE;\n",
              "      border: none;\n",
              "      border-radius: 50%;\n",
              "      cursor: pointer;\n",
              "      display: none;\n",
              "      fill: #1967D2;\n",
              "      height: 32px;\n",
              "      padding: 0 0 0 0;\n",
              "      width: 32px;\n",
              "    }\n",
              "\n",
              "    .colab-df-convert:hover {\n",
              "      background-color: #E2EBFA;\n",
              "      box-shadow: 0px 1px 2px rgba(60, 64, 67, 0.3), 0px 1px 3px 1px rgba(60, 64, 67, 0.15);\n",
              "      fill: #174EA6;\n",
              "    }\n",
              "\n",
              "    [theme=dark] .colab-df-convert {\n",
              "      background-color: #3B4455;\n",
              "      fill: #D2E3FC;\n",
              "    }\n",
              "\n",
              "    [theme=dark] .colab-df-convert:hover {\n",
              "      background-color: #434B5C;\n",
              "      box-shadow: 0px 1px 3px 1px rgba(0, 0, 0, 0.15);\n",
              "      filter: drop-shadow(0px 1px 2px rgba(0, 0, 0, 0.3));\n",
              "      fill: #FFFFFF;\n",
              "    }\n",
              "  </style>\n",
              "\n",
              "      <script>\n",
              "        const buttonEl =\n",
              "          document.querySelector('#df-bb4ae417-20b0-4511-8cf2-4be65004b2f3 button.colab-df-convert');\n",
              "        buttonEl.style.display =\n",
              "          google.colab.kernel.accessAllowed ? 'block' : 'none';\n",
              "\n",
              "        async function convertToInteractive(key) {\n",
              "          const element = document.querySelector('#df-bb4ae417-20b0-4511-8cf2-4be65004b2f3');\n",
              "          const dataTable =\n",
              "            await google.colab.kernel.invokeFunction('convertToInteractive',\n",
              "                                                     [key], {});\n",
              "          if (!dataTable) return;\n",
              "\n",
              "          const docLinkHtml = 'Like what you see? Visit the ' +\n",
              "            '<a target=\"_blank\" href=https://colab.research.google.com/notebooks/data_table.ipynb>data table notebook</a>'\n",
              "            + ' to learn more about interactive tables.';\n",
              "          element.innerHTML = '';\n",
              "          dataTable['output_type'] = 'display_data';\n",
              "          await google.colab.output.renderOutput(dataTable, element);\n",
              "          const docLink = document.createElement('div');\n",
              "          docLink.innerHTML = docLinkHtml;\n",
              "          element.appendChild(docLink);\n",
              "        }\n",
              "      </script>\n",
              "    </div>\n",
              "  </div>\n",
              "  "
            ]
          },
          "metadata": {},
          "execution_count": 7
        }
      ]
    },
    {
      "cell_type": "markdown",
      "source": [
        "### 3.2.2 Visualização dos dados"
      ],
      "metadata": {
        "id": "z2mwX6OtEYSc"
      }
    },
    {
      "cell_type": "code",
      "source": [
        "plt.figure(figsize=(10,4))\n",
        "sns.histplot(dados1['Inscritos'])\n",
        "plt.xlabel('Inscritos',size=16)\n",
        "plt.ylabel('Total',size=16)\n",
        "plt.title('Inscritos',size=16)\n",
        "plt.show()"
      ],
      "metadata": {
        "colab": {
          "base_uri": "https://localhost:8080/",
          "height": 310
        },
        "id": "TijOGyuaEXfN",
        "outputId": "fa1da642-30c6-4c07-d59d-3b99aefef75f"
      },
      "execution_count": 8,
      "outputs": [
        {
          "output_type": "display_data",
          "data": {
            "text/plain": [
              "<Figure size 720x288 with 1 Axes>"
            ],
            "image/png": "[encoded data removed]"
          },
          "metadata": {
            "needs_background": "light"
          }
        }
      ]
    },
    {
      "cell_type": "code",
      "source": [
        "plt.figure(figsize=(10,4))\n",
        "sns.boxplot(dados1['Inscritos'])\n",
        "plt.xlabel('Inscritos',size=16)\n",
        "plt.title('Inscritos',size=16)\n",
        "plt.show()"
      ],
      "metadata": {
        "colab": {
          "base_uri": "https://localhost:8080/",
          "height": 310
        },
        "id": "r_dfrj4F9f2D",
        "outputId": "764396cb-4e71-4f72-a910-355a3711eb06"
      },
      "execution_count": 9,
      "outputs": [
        {
          "output_type": "display_data",
          "data": {
            "text/plain": [
              "<Figure size 720x288 with 1 Axes>"
            ],
            "image/png": "[encoded data removed]"
          },
          "metadata": {
            "needs_background": "light"
          }
        }
      ]
    },
    {
      "cell_type": "markdown",
      "source": [
        "## 3.3 Vídeos publicados"
      ],
      "metadata": {
        "id": "zvAJlmlEEruZ"
      }
    },
    {
      "cell_type": "markdown",
      "source": [
        "### 3.3.1 Dados"
      ],
      "metadata": {
        "id": "hLwgYoaRFNls"
      }
    },
    {
      "cell_type": "code",
      "source": [
        "dados2.head(10)"
      ],
      "metadata": {
        "colab": {
          "base_uri": "https://localhost:8080/",
          "height": 363
        },
        "id": "aZLqAHrqk_zi",
        "outputId": "1c505042-693f-494f-843f-6ff874dd72d1"
      },
      "execution_count": 10,
      "outputs": [
        {
          "output_type": "execute_result",
          "data": {
            "text/plain": [
              "         Data                     Canal Título do canal  Vídeos publicados\n",
              "0  2013-06-11  UCFjrDmEnxrG5TRGVO0TPHLA        Numero 1                  0\n",
              "1  2013-06-12  UCFjrDmEnxrG5TRGVO0TPHLA        Numero 1                  0\n",
              "2  2013-06-13  UCFjrDmEnxrG5TRGVO0TPHLA        Numero 1                  0\n",
              "3  2013-06-14  UCFjrDmEnxrG5TRGVO0TPHLA        Numero 1                  0\n",
              "4  2013-06-15  UCFjrDmEnxrG5TRGVO0TPHLA        Numero 1                  0\n",
              "5  2013-06-16  UCFjrDmEnxrG5TRGVO0TPHLA        Numero 1                  0\n",
              "6  2013-06-17  UCFjrDmEnxrG5TRGVO0TPHLA        Numero 1                  0\n",
              "7  2013-06-18  UCFjrDmEnxrG5TRGVO0TPHLA        Numero 1                  0\n",
              "8  2013-06-19  UCFjrDmEnxrG5TRGVO0TPHLA        Numero 1                  0\n",
              "9  2013-06-20  UCFjrDmEnxrG5TRGVO0TPHLA        Numero 1                  0"
            ],
            "text/html": [
              "\n",
              "  <div id=\"df-4c77aedc-1659-4f4f-b47d-52ea0b701824\">\n",
              "    <div class=\"colab-df-container\">\n",
              "      <div>\n",
              "<style scoped>\n",
              "    .dataframe tbody tr th:only-of-type {\n",
              "        vertical-align: middle;\n",
              "    }\n",
              "\n",
              "    .dataframe tbody tr th {\n",
              "        vertical-align: top;\n",
              "    }\n",
              "\n",
              "    .dataframe thead th {\n",
              "        text-align: right;\n",
              "    }\n",
              "</style>\n",
              "<table border=\"1\" class=\"dataframe\">\n",
              "  <thead>\n",
              "    <tr style=\"text-align: right;\">\n",
              "      <th></th>\n",
              "      <th>Data</th>\n",
              "      <th>Canal</th>\n",
              "      <th>Título do canal</th>\n",
              "      <th>Vídeos publicados</th>\n",
              "    </tr>\n",
              "  </thead>\n",
              "  <tbody>\n",
              "    <tr>\n",
              "      <th>0</th>\n",
              "      <td>2013-06-11</td>\n",
              "      <td>UCFjrDmEnxrG5TRGVO0TPHLA</td>\n",
              "      <td>Numero 1</td>\n",
              "      <td>0</td>\n",
              "    </tr>\n",
              "    <tr>\n",
              "      <th>1</th>\n",
              "      <td>2013-06-12</td>\n",
              "      <td>UCFjrDmEnxrG5TRGVO0TPHLA</td>\n",
              "      <td>Numero 1</td>\n",
              "      <td>0</td>\n",
              "    </tr>\n",
              "    <tr>\n",
              "      <th>2</th>\n",
              "      <td>2013-06-13</td>\n",
              "      <td>UCFjrDmEnxrG5TRGVO0TPHLA</td>\n",
              "      <td>Numero 1</td>\n",
              "      <td>0</td>\n",
              "    </tr>\n",
              "    <tr>\n",
              "      <th>3</th>\n",
              "      <td>2013-06-14</td>\n",
              "      <td>UCFjrDmEnxrG5TRGVO0TPHLA</td>\n",
              "      <td>Numero 1</td>\n",
              "      <td>0</td>\n",
              "    </tr>\n",
              "    <tr>\n",
              "      <th>4</th>\n",
              "      <td>2013-06-15</td>\n",
              "      <td>UCFjrDmEnxrG5TRGVO0TPHLA</td>\n",
              "      <td>Numero 1</td>\n",
              "      <td>0</td>\n",
              "    </tr>\n",
              "    <tr>\n",
              "      <th>5</th>\n",
              "      <td>2013-06-16</td>\n",
              "      <td>UCFjrDmEnxrG5TRGVO0TPHLA</td>\n",
              "      <td>Numero 1</td>\n",
              "      <td>0</td>\n",
              "    </tr>\n",
              "    <tr>\n",
              "      <th>6</th>\n",
              "      <td>2013-06-17</td>\n",
              "      <td>UCFjrDmEnxrG5TRGVO0TPHLA</td>\n",
              "      <td>Numero 1</td>\n",
              "      <td>0</td>\n",
              "    </tr>\n",
              "    <tr>\n",
              "      <th>7</th>\n",
              "      <td>2013-06-18</td>\n",
              "      <td>UCFjrDmEnxrG5TRGVO0TPHLA</td>\n",
              "      <td>Numero 1</td>\n",
              "      <td>0</td>\n",
              "    </tr>\n",
              "    <tr>\n",
              "      <th>8</th>\n",
              "      <td>2013-06-19</td>\n",
              "      <td>UCFjrDmEnxrG5TRGVO0TPHLA</td>\n",
              "      <td>Numero 1</td>\n",
              "      <td>0</td>\n",
              "    </tr>\n",
              "    <tr>\n",
              "      <th>9</th>\n",
              "      <td>2013-06-20</td>\n",
              "      <td>UCFjrDmEnxrG5TRGVO0TPHLA</td>\n",
              "      <td>Numero 1</td>\n",
              "      <td>0</td>\n",
              "    </tr>\n",
              "  </tbody>\n",
              "</table>\n",
              "</div>\n",
              "      <button class=\"colab-df-convert\" onclick=\"convertToInteractive('df-4c77aedc-1659-4f4f-b47d-52ea0b701824')\"\n",
              "              title=\"Convert this dataframe to an interactive table.\"\n",
              "              style=\"display:none;\">\n",
              "        \n",
              "  <svg xmlns=\"http://www.w3.org/2000/svg\" height=\"24px\"viewBox=\"0 0 24 24\"\n",
              "       width=\"24px\">\n",
              "    <path d=\"M0 0h24v24H0V0z\" fill=\"none\"/>\n",
              "    <path d=\"M18.56 5.44l.94 2.06.94-2.06 2.06-.94-2.06-.94-.94-2.06-.94 2.06-2.06.94zm-11 1L8.5 8.5l.94-2.06 2.06-.94-2.06-.94L8.5 2.5l-.94 2.06-2.06.94zm10 10l.94 2.06.94-2.06 2.06-.94-2.06-.94-.94-2.06-.94 2.06-2.06.94z\"/><path d=\"M17.41 7.96l-1.37-1.37c-.4-.4-.92-.59-1.43-.59-.52 0-1.04.2-1.43.59L10.3 9.45l-7.72 7.72c-.78.78-.78 2.05 0 2.83L4 21.41c.39.39.9.59 1.41.59.51 0 1.02-.2 1.41-.59l7.78-7.78 2.81-2.81c.8-.78.8-2.07 0-2.86zM5.41 20L4 18.59l7.72-7.72 1.47 1.35L5.41 20z\"/>\n",
              "  </svg>\n",
              "      </button>\n",
              "      \n",
              "  <style>\n",
              "    .colab-df-container {\n",
              "      display:flex;\n",
              "      flex-wrap:wrap;\n",
              "      gap: 12px;\n",
              "    }\n",
              "\n",
              "    .colab-df-convert {\n",
              "      background-color: #E8F0FE;\n",
              "      border: none;\n",
              "      border-radius: 50%;\n",
              "      cursor: pointer;\n",
              "      display: none;\n",
              "      fill: #1967D2;\n",
              "      height: 32px;\n",
              "      padding: 0 0 0 0;\n",
              "      width: 32px;\n",
              "    }\n",
              "\n",
              "    .colab-df-convert:hover {\n",
              "      background-color: #E2EBFA;\n",
              "      box-shadow: 0px 1px 2px rgba(60, 64, 67, 0.3), 0px 1px 3px 1px rgba(60, 64, 67, 0.15);\n",
              "      fill: #174EA6;\n",
              "    }\n",
              "\n",
              "    [theme=dark] .colab-df-convert {\n",
              "      background-color: #3B4455;\n",
              "      fill: #D2E3FC;\n",
              "    }\n",
              "\n",
              "    [theme=dark] .colab-df-convert:hover {\n",
              "      background-color: #434B5C;\n",
              "      box-shadow: 0px 1px 3px 1px rgba(0, 0, 0, 0.15);\n",
              "      filter: drop-shadow(0px 1px 2px rgba(0, 0, 0, 0.3));\n",
              "      fill: #FFFFFF;\n",
              "    }\n",
              "  </style>\n",
              "\n",
              "      <script>\n",
              "        const buttonEl =\n",
              "          document.querySelector('#df-4c77aedc-1659-4f4f-b47d-52ea0b701824 button.colab-df-convert');\n",
              "        buttonEl.style.display =\n",
              "          google.colab.kernel.accessAllowed ? 'block' : 'none';\n",
              "\n",
              "        async function convertToInteractive(key) {\n",
              "          const element = document.querySelector('#df-4c77aedc-1659-4f4f-b47d-52ea0b701824');\n",
              "          const dataTable =\n",
              "            await google.colab.kernel.invokeFunction('convertToInteractive',\n",
              "                                                     [key], {});\n",
              "          if (!dataTable) return;\n",
              "\n",
              "          const docLinkHtml = 'Like what you see? Visit the ' +\n",
              "            '<a target=\"_blank\" href=https://colab.research.google.com/notebooks/data_table.ipynb>data table notebook</a>'\n",
              "            + ' to learn more about interactive tables.';\n",
              "          element.innerHTML = '';\n",
              "          dataTable['output_type'] = 'display_data';\n",
              "          await google.colab.output.renderOutput(dataTable, element);\n",
              "          const docLink = document.createElement('div');\n",
              "          docLink.innerHTML = docLinkHtml;\n",
              "          element.appendChild(docLink);\n",
              "        }\n",
              "      </script>\n",
              "    </div>\n",
              "  </div>\n",
              "  "
            ]
          },
          "metadata": {},
          "execution_count": 10
        }
      ]
    },
    {
      "cell_type": "markdown",
      "source": [
        "### 3.3.2 Visualização dos dados"
      ],
      "metadata": {
        "id": "BSopeUqKFxyR"
      }
    },
    {
      "cell_type": "code",
      "source": [
        "plt.figure(figsize=(10,4))\n",
        "sns.histplot(dados2['Vídeos publicados'])\n",
        "plt.xlabel('Vídeos publicados',size=16)\n",
        "plt.ylabel('Total',size=16)\n",
        "plt.title('Vídeos publicados',size=16)\n",
        "plt.show()"
      ],
      "metadata": {
        "outputId": "9cbfc8b7-db76-4556-c062-f5c70764e658",
        "colab": {
          "base_uri": "https://localhost:8080/",
          "height": 312
        },
        "id": "JRo7p3OEFxyS"
      },
      "execution_count": 11,
      "outputs": [
        {
          "output_type": "display_data",
          "data": {
            "text/plain": [
              "<Figure size 720x288 with 1 Axes>"
            ],
            "image/png": "[encoded data removed]"
          },
          "metadata": {
            "needs_background": "light"
          }
        }
      ]
    },
    {
      "cell_type": "markdown",
      "source": [
        "## 3.4 Visualizações"
      ],
      "metadata": {
        "id": "y-ztj2qJGWLq"
      }
    },
    {
      "cell_type": "markdown",
      "source": [
        "### 3.4.1 Dados"
      ],
      "metadata": {
        "id": "FIbRsGFmGWMG"
      }
    },
    {
      "cell_type": "code",
      "source": [
        "dados3.head(10)"
      ],
      "metadata": {
        "colab": {
          "base_uri": "https://localhost:8080/",
          "height": 363
        },
        "id": "oR-F4pmClBsi",
        "outputId": "7c2ce3ce-0f00-4362-bf6f-7e6eb1b5774f"
      },
      "execution_count": 12,
      "outputs": [
        {
          "output_type": "execute_result",
          "data": {
            "text/plain": [
              "         Data                     Canal Título do canal  Visualizações\n",
              "0  2013-06-11  UCFjrDmEnxrG5TRGVO0TPHLA        Numero 1              0\n",
              "1  2013-06-12  UCFjrDmEnxrG5TRGVO0TPHLA        Numero 1              0\n",
              "2  2013-06-13  UCFjrDmEnxrG5TRGVO0TPHLA        Numero 1              0\n",
              "3  2013-06-14  UCFjrDmEnxrG5TRGVO0TPHLA        Numero 1              0\n",
              "4  2013-06-15  UCFjrDmEnxrG5TRGVO0TPHLA        Numero 1              0\n",
              "5  2013-06-16  UCFjrDmEnxrG5TRGVO0TPHLA        Numero 1              0\n",
              "6  2013-06-17  UCFjrDmEnxrG5TRGVO0TPHLA        Numero 1              0\n",
              "7  2013-06-18  UCFjrDmEnxrG5TRGVO0TPHLA        Numero 1              0\n",
              "8  2013-06-19  UCFjrDmEnxrG5TRGVO0TPHLA        Numero 1              0\n",
              "9  2013-06-20  UCFjrDmEnxrG5TRGVO0TPHLA        Numero 1              0"
            ],
            "text/html": [
              "\n",
              "  <div id=\"df-132a8c5d-30cf-48c8-9f17-4387efb436c2\">\n",
              "    <div class=\"colab-df-container\">\n",
              "      <div>\n",
              "<style scoped>\n",
              "    .dataframe tbody tr th:only-of-type {\n",
              "        vertical-align: middle;\n",
              "    }\n",
              "\n",
              "    .dataframe tbody tr th {\n",
              "        vertical-align: top;\n",
              "    }\n",
              "\n",
              "    .dataframe thead th {\n",
              "        text-align: right;\n",
              "    }\n",
              "</style>\n",
              "<table border=\"1\" class=\"dataframe\">\n",
              "  <thead>\n",
              "    <tr style=\"text-align: right;\">\n",
              "      <th></th>\n",
              "      <th>Data</th>\n",
              "      <th>Canal</th>\n",
              "      <th>Título do canal</th>\n",
              "      <th>Visualizações</th>\n",
              "    </tr>\n",
              "  </thead>\n",
              "  <tbody>\n",
              "    <tr>\n",
              "      <th>0</th>\n",
              "      <td>2013-06-11</td>\n",
              "      <td>UCFjrDmEnxrG5TRGVO0TPHLA</td>\n",
              "      <td>Numero 1</td>\n",
              "      <td>0</td>\n",
              "    </tr>\n",
              "    <tr>\n",
              "      <th>1</th>\n",
              "      <td>2013-06-12</td>\n",
              "      <td>UCFjrDmEnxrG5TRGVO0TPHLA</td>\n",
              "      <td>Numero 1</td>\n",
              "      <td>0</td>\n",
              "    </tr>\n",
              "    <tr>\n",
              "      <th>2</th>\n",
              "      <td>2013-06-13</td>\n",
              "      <td>UCFjrDmEnxrG5TRGVO0TPHLA</td>\n",
              "      <td>Numero 1</td>\n",
              "      <td>0</td>\n",
              "    </tr>\n",
              "    <tr>\n",
              "      <th>3</th>\n",
              "      <td>2013-06-14</td>\n",
              "      <td>UCFjrDmEnxrG5TRGVO0TPHLA</td>\n",
              "      <td>Numero 1</td>\n",
              "      <td>0</td>\n",
              "    </tr>\n",
              "    <tr>\n",
              "      <th>4</th>\n",
              "      <td>2013-06-15</td>\n",
              "      <td>UCFjrDmEnxrG5TRGVO0TPHLA</td>\n",
              "      <td>Numero 1</td>\n",
              "      <td>0</td>\n",
              "    </tr>\n",
              "    <tr>\n",
              "      <th>5</th>\n",
              "      <td>2013-06-16</td>\n",
              "      <td>UCFjrDmEnxrG5TRGVO0TPHLA</td>\n",
              "      <td>Numero 1</td>\n",
              "      <td>0</td>\n",
              "    </tr>\n",
              "    <tr>\n",
              "      <th>6</th>\n",
              "      <td>2013-06-17</td>\n",
              "      <td>UCFjrDmEnxrG5TRGVO0TPHLA</td>\n",
              "      <td>Numero 1</td>\n",
              "      <td>0</td>\n",
              "    </tr>\n",
              "    <tr>\n",
              "      <th>7</th>\n",
              "      <td>2013-06-18</td>\n",
              "      <td>UCFjrDmEnxrG5TRGVO0TPHLA</td>\n",
              "      <td>Numero 1</td>\n",
              "      <td>0</td>\n",
              "    </tr>\n",
              "    <tr>\n",
              "      <th>8</th>\n",
              "      <td>2013-06-19</td>\n",
              "      <td>UCFjrDmEnxrG5TRGVO0TPHLA</td>\n",
              "      <td>Numero 1</td>\n",
              "      <td>0</td>\n",
              "    </tr>\n",
              "    <tr>\n",
              "      <th>9</th>\n",
              "      <td>2013-06-20</td>\n",
              "      <td>UCFjrDmEnxrG5TRGVO0TPHLA</td>\n",
              "      <td>Numero 1</td>\n",
              "      <td>0</td>\n",
              "    </tr>\n",
              "  </tbody>\n",
              "</table>\n",
              "</div>\n",
              "      <button class=\"colab-df-convert\" onclick=\"convertToInteractive('df-132a8c5d-30cf-48c8-9f17-4387efb436c2')\"\n",
              "              title=\"Convert this dataframe to an interactive table.\"\n",
              "              style=\"display:none;\">\n",
              "        \n",
              "  <svg xmlns=\"http://www.w3.org/2000/svg\" height=\"24px\"viewBox=\"0 0 24 24\"\n",
              "       width=\"24px\">\n",
              "    <path d=\"M0 0h24v24H0V0z\" fill=\"none\"/>\n",
              "    <path d=\"M18.56 5.44l.94 2.06.94-2.06 2.06-.94-2.06-.94-.94-2.06-.94 2.06-2.06.94zm-11 1L8.5 8.5l.94-2.06 2.06-.94-2.06-.94L8.5 2.5l-.94 2.06-2.06.94zm10 10l.94 2.06.94-2.06 2.06-.94-2.06-.94-.94-2.06-.94 2.06-2.06.94z\"/><path d=\"M17.41 7.96l-1.37-1.37c-.4-.4-.92-.59-1.43-.59-.52 0-1.04.2-1.43.59L10.3 9.45l-7.72 7.72c-.78.78-.78 2.05 0 2.83L4 21.41c.39.39.9.59 1.41.59.51 0 1.02-.2 1.41-.59l7.78-7.78 2.81-2.81c.8-.78.8-2.07 0-2.86zM5.41 20L4 18.59l7.72-7.72 1.47 1.35L5.41 20z\"/>\n",
              "  </svg>\n",
              "      </button>\n",
              "      \n",
              "  <style>\n",
              "    .colab-df-container {\n",
              "      display:flex;\n",
              "      flex-wrap:wrap;\n",
              "      gap: 12px;\n",
              "    }\n",
              "\n",
              "    .colab-df-convert {\n",
              "      background-color: #E8F0FE;\n",
              "      border: none;\n",
              "      border-radius: 50%;\n",
              "      cursor: pointer;\n",
              "      display: none;\n",
              "      fill: #1967D2;\n",
              "      height: 32px;\n",
              "      padding: 0 0 0 0;\n",
              "      width: 32px;\n",
              "    }\n",
              "\n",
              "    .colab-df-convert:hover {\n",
              "      background-color: #E2EBFA;\n",
              "      box-shadow: 0px 1px 2px rgba(60, 64, 67, 0.3), 0px 1px 3px 1px rgba(60, 64, 67, 0.15);\n",
              "      fill: #174EA6;\n",
              "    }\n",
              "\n",
              "    [theme=dark] .colab-df-convert {\n",
              "      background-color: #3B4455;\n",
              "      fill: #D2E3FC;\n",
              "    }\n",
              "\n",
              "    [theme=dark] .colab-df-convert:hover {\n",
              "      background-color: #434B5C;\n",
              "      box-shadow: 0px 1px 3px 1px rgba(0, 0, 0, 0.15);\n",
              "      filter: drop-shadow(0px 1px 2px rgba(0, 0, 0, 0.3));\n",
              "      fill: #FFFFFF;\n",
              "    }\n",
              "  </style>\n",
              "\n",
              "      <script>\n",
              "        const buttonEl =\n",
              "          document.querySelector('#df-132a8c5d-30cf-48c8-9f17-4387efb436c2 button.colab-df-convert');\n",
              "        buttonEl.style.display =\n",
              "          google.colab.kernel.accessAllowed ? 'block' : 'none';\n",
              "\n",
              "        async function convertToInteractive(key) {\n",
              "          const element = document.querySelector('#df-132a8c5d-30cf-48c8-9f17-4387efb436c2');\n",
              "          const dataTable =\n",
              "            await google.colab.kernel.invokeFunction('convertToInteractive',\n",
              "                                                     [key], {});\n",
              "          if (!dataTable) return;\n",
              "\n",
              "          const docLinkHtml = 'Like what you see? Visit the ' +\n",
              "            '<a target=\"_blank\" href=https://colab.research.google.com/notebooks/data_table.ipynb>data table notebook</a>'\n",
              "            + ' to learn more about interactive tables.';\n",
              "          element.innerHTML = '';\n",
              "          dataTable['output_type'] = 'display_data';\n",
              "          await google.colab.output.renderOutput(dataTable, element);\n",
              "          const docLink = document.createElement('div');\n",
              "          docLink.innerHTML = docLinkHtml;\n",
              "          element.appendChild(docLink);\n",
              "        }\n",
              "      </script>\n",
              "    </div>\n",
              "  </div>\n",
              "  "
            ]
          },
          "metadata": {},
          "execution_count": 12
        }
      ]
    },
    {
      "cell_type": "markdown",
      "source": [
        "### 3.4.2 Visualização dos dados"
      ],
      "metadata": {
        "id": "A04axo21HC-c"
      }
    },
    {
      "cell_type": "code",
      "source": [
        "plt.figure(figsize=(10,4))\n",
        "sns.histplot(dados3['Visualizações'])\n",
        "plt.xlabel('Visualizações',size=16)\n",
        "plt.ylabel('Total',size=16)\n",
        "plt.title('Visualizações',size=16)\n",
        "plt.show()"
      ],
      "metadata": {
        "outputId": "6cf69628-ad38-4ee2-f113-86dc2da09de4",
        "colab": {
          "base_uri": "https://localhost:8080/",
          "height": 312
        },
        "id": "KGmvqKomHC-d"
      },
      "execution_count": 13,
      "outputs": [
        {
          "output_type": "display_data",
          "data": {
            "text/plain": [
              "<Figure size 720x288 with 1 Axes>"
            ],
            "image/png": "[encoded data removed]"
          },
          "metadata": {
            "needs_background": "light"
          }
        }
      ]
    },
    {
      "cell_type": "code",
      "source": [
        "plt.figure(figsize=(10,4))\n",
        "sns.boxplot(dados3['Visualizações'])\n",
        "plt.xlabel('Visualizações',size=16)\n",
        "plt.title('Visualizações',size=16)\n",
        "plt.show()"
      ],
      "metadata": {
        "colab": {
          "base_uri": "https://localhost:8080/",
          "height": 312
        },
        "id": "sAahPyTL9zTV",
        "outputId": "8cf5207a-b819-41e5-f0dc-3041cbcc432a"
      },
      "execution_count": 14,
      "outputs": [
        {
          "output_type": "display_data",
          "data": {
            "text/plain": [
              "<Figure size 720x288 with 1 Axes>"
            ],
            "image/png": "[encoded data removed]"
          },
          "metadata": {
            "needs_background": "light"
          }
        }
      ]
    },
    {
      "cell_type": "markdown",
      "source": [
        "## 3.5 Receita"
      ],
      "metadata": {
        "id": "CUe74SFaHyiO"
      }
    },
    {
      "cell_type": "markdown",
      "source": [
        "### 3.5.1 Agrupando dados"
      ],
      "metadata": {
        "id": "L-Wk_T_xHtwf"
      }
    },
    {
      "cell_type": "code",
      "source": [
        "receita.head(10)"
      ],
      "metadata": {
        "colab": {
          "base_uri": "https://localhost:8080/",
          "height": 363
        },
        "outputId": "2545bb01-a3c3-4fc2-c3d0-c60caa6ee286",
        "id": "oLPUVJS3Htw1"
      },
      "execution_count": 15,
      "outputs": [
        {
          "output_type": "execute_result",
          "data": {
            "text/plain": [
              "         Data                     Canal Título do canal  \\\n",
              "0  2013-06-11  UCFjrDmEnxrG5TRGVO0TPHLA        Numero 1   \n",
              "1  2013-06-12  UCFjrDmEnxrG5TRGVO0TPHLA        Numero 1   \n",
              "2  2013-06-13  UCFjrDmEnxrG5TRGVO0TPHLA        Numero 1   \n",
              "3  2013-06-14  UCFjrDmEnxrG5TRGVO0TPHLA        Numero 1   \n",
              "4  2013-06-15  UCFjrDmEnxrG5TRGVO0TPHLA        Numero 1   \n",
              "5  2013-06-16  UCFjrDmEnxrG5TRGVO0TPHLA        Numero 1   \n",
              "6  2013-06-17  UCFjrDmEnxrG5TRGVO0TPHLA        Numero 1   \n",
              "7  2013-06-18  UCFjrDmEnxrG5TRGVO0TPHLA        Numero 1   \n",
              "8  2013-06-19  UCFjrDmEnxrG5TRGVO0TPHLA        Numero 1   \n",
              "9  2013-06-20  UCFjrDmEnxrG5TRGVO0TPHLA        Numero 1   \n",
              "\n",
              "   Sua receita estimada (USD)  \n",
              "0                        0.00  \n",
              "1                        0.00  \n",
              "2                        0.00  \n",
              "3                        0.00  \n",
              "4                        0.00  \n",
              "5                        0.00  \n",
              "6                        0.00  \n",
              "7                        0.00  \n",
              "8                        0.00  \n",
              "9                        0.00  "
            ],
            "text/html": [
              "\n",
              "  <div id=\"df-1c88fbed-b5d3-4fdb-b115-31d824618041\">\n",
              "    <div class=\"colab-df-container\">\n",
              "      <div>\n",
              "<style scoped>\n",
              "    .dataframe tbody tr th:only-of-type {\n",
              "        vertical-align: middle;\n",
              "    }\n",
              "\n",
              "    .dataframe tbody tr th {\n",
              "        vertical-align: top;\n",
              "    }\n",
              "\n",
              "    .dataframe thead th {\n",
              "        text-align: right;\n",
              "    }\n",
              "</style>\n",
              "<table border=\"1\" class=\"dataframe\">\n",
              "  <thead>\n",
              "    <tr style=\"text-align: right;\">\n",
              "      <th></th>\n",
              "      <th>Data</th>\n",
              "      <th>Canal</th>\n",
              "      <th>Título do canal</th>\n",
              "      <th>Sua receita estimada (USD)</th>\n",
              "    </tr>\n",
              "  </thead>\n",
              "  <tbody>\n",
              "    <tr>\n",
              "      <th>0</th>\n",
              "      <td>2013-06-11</td>\n",
              "      <td>UCFjrDmEnxrG5TRGVO0TPHLA</td>\n",
              "      <td>Numero 1</td>\n",
              "      <td>0.00</td>\n",
              "    </tr>\n",
              "    <tr>\n",
              "      <th>1</th>\n",
              "      <td>2013-06-12</td>\n",
              "      <td>UCFjrDmEnxrG5TRGVO0TPHLA</td>\n",
              "      <td>Numero 1</td>\n",
              "      <td>0.00</td>\n",
              "    </tr>\n",
              "    <tr>\n",
              "      <th>2</th>\n",
              "      <td>2013-06-13</td>\n",
              "      <td>UCFjrDmEnxrG5TRGVO0TPHLA</td>\n",
              "      <td>Numero 1</td>\n",
              "      <td>0.00</td>\n",
              "    </tr>\n",
              "    <tr>\n",
              "      <th>3</th>\n",
              "      <td>2013-06-14</td>\n",
              "      <td>UCFjrDmEnxrG5TRGVO0TPHLA</td>\n",
              "      <td>Numero 1</td>\n",
              "      <td>0.00</td>\n",
              "    </tr>\n",
              "    <tr>\n",
              "      <th>4</th>\n",
              "      <td>2013-06-15</td>\n",
              "      <td>UCFjrDmEnxrG5TRGVO0TPHLA</td>\n",
              "      <td>Numero 1</td>\n",
              "      <td>0.00</td>\n",
              "    </tr>\n",
              "    <tr>\n",
              "      <th>5</th>\n",
              "      <td>2013-06-16</td>\n",
              "      <td>UCFjrDmEnxrG5TRGVO0TPHLA</td>\n",
              "      <td>Numero 1</td>\n",
              "      <td>0.00</td>\n",
              "    </tr>\n",
              "    <tr>\n",
              "      <th>6</th>\n",
              "      <td>2013-06-17</td>\n",
              "      <td>UCFjrDmEnxrG5TRGVO0TPHLA</td>\n",
              "      <td>Numero 1</td>\n",
              "      <td>0.00</td>\n",
              "    </tr>\n",
              "    <tr>\n",
              "      <th>7</th>\n",
              "      <td>2013-06-18</td>\n",
              "      <td>UCFjrDmEnxrG5TRGVO0TPHLA</td>\n",
              "      <td>Numero 1</td>\n",
              "      <td>0.00</td>\n",
              "    </tr>\n",
              "    <tr>\n",
              "      <th>8</th>\n",
              "      <td>2013-06-19</td>\n",
              "      <td>UCFjrDmEnxrG5TRGVO0TPHLA</td>\n",
              "      <td>Numero 1</td>\n",
              "      <td>0.00</td>\n",
              "    </tr>\n",
              "    <tr>\n",
              "      <th>9</th>\n",
              "      <td>2013-06-20</td>\n",
              "      <td>UCFjrDmEnxrG5TRGVO0TPHLA</td>\n",
              "      <td>Numero 1</td>\n",
              "      <td>0.00</td>\n",
              "    </tr>\n",
              "  </tbody>\n",
              "</table>\n",
              "</div>\n",
              "      <button class=\"colab-df-convert\" onclick=\"convertToInteractive('df-1c88fbed-b5d3-4fdb-b115-31d824618041')\"\n",
              "              title=\"Convert this dataframe to an interactive table.\"\n",
              "              style=\"display:none;\">\n",
              "        \n",
              "  <svg xmlns=\"http://www.w3.org/2000/svg\" height=\"24px\"viewBox=\"0 0 24 24\"\n",
              "       width=\"24px\">\n",
              "    <path d=\"M0 0h24v24H0V0z\" fill=\"none\"/>\n",
              "    <path d=\"M18.56 5.44l.94 2.06.94-2.06 2.06-.94-2.06-.94-.94-2.06-.94 2.06-2.06.94zm-11 1L8.5 8.5l.94-2.06 2.06-.94-2.06-.94L8.5 2.5l-.94 2.06-2.06.94zm10 10l.94 2.06.94-2.06 2.06-.94-2.06-.94-.94-2.06-.94 2.06-2.06.94z\"/><path d=\"M17.41 7.96l-1.37-1.37c-.4-.4-.92-.59-1.43-.59-.52 0-1.04.2-1.43.59L10.3 9.45l-7.72 7.72c-.78.78-.78 2.05 0 2.83L4 21.41c.39.39.9.59 1.41.59.51 0 1.02-.2 1.41-.59l7.78-7.78 2.81-2.81c.8-.78.8-2.07 0-2.86zM5.41 20L4 18.59l7.72-7.72 1.47 1.35L5.41 20z\"/>\n",
              "  </svg>\n",
              "      </button>\n",
              "      \n",
              "  <style>\n",
              "    .colab-df-container {\n",
              "      display:flex;\n",
              "      flex-wrap:wrap;\n",
              "      gap: 12px;\n",
              "    }\n",
              "\n",
              "    .colab-df-convert {\n",
              "      background-color: #E8F0FE;\n",
              "      border: none;\n",
              "      border-radius: 50%;\n",
              "      cursor: pointer;\n",
              "      display: none;\n",
              "      fill: #1967D2;\n",
              "      height: 32px;\n",
              "      padding: 0 0 0 0;\n",
              "      width: 32px;\n",
              "    }\n",
              "\n",
              "    .colab-df-convert:hover {\n",
              "      background-color: #E2EBFA;\n",
              "      box-shadow: 0px 1px 2px rgba(60, 64, 67, 0.3), 0px 1px 3px 1px rgba(60, 64, 67, 0.15);\n",
              "      fill: #174EA6;\n",
              "    }\n",
              "\n",
              "    [theme=dark] .colab-df-convert {\n",
              "      background-color: #3B4455;\n",
              "      fill: #D2E3FC;\n",
              "    }\n",
              "\n",
              "    [theme=dark] .colab-df-convert:hover {\n",
              "      background-color: #434B5C;\n",
              "      box-shadow: 0px 1px 3px 1px rgba(0, 0, 0, 0.15);\n",
              "      filter: drop-shadow(0px 1px 2px rgba(0, 0, 0, 0.3));\n",
              "      fill: #FFFFFF;\n",
              "    }\n",
              "  </style>\n",
              "\n",
              "      <script>\n",
              "        const buttonEl =\n",
              "          document.querySelector('#df-1c88fbed-b5d3-4fdb-b115-31d824618041 button.colab-df-convert');\n",
              "        buttonEl.style.display =\n",
              "          google.colab.kernel.accessAllowed ? 'block' : 'none';\n",
              "\n",
              "        async function convertToInteractive(key) {\n",
              "          const element = document.querySelector('#df-1c88fbed-b5d3-4fdb-b115-31d824618041');\n",
              "          const dataTable =\n",
              "            await google.colab.kernel.invokeFunction('convertToInteractive',\n",
              "                                                     [key], {});\n",
              "          if (!dataTable) return;\n",
              "\n",
              "          const docLinkHtml = 'Like what you see? Visit the ' +\n",
              "            '<a target=\"_blank\" href=https://colab.research.google.com/notebooks/data_table.ipynb>data table notebook</a>'\n",
              "            + ' to learn more about interactive tables.';\n",
              "          element.innerHTML = '';\n",
              "          dataTable['output_type'] = 'display_data';\n",
              "          await google.colab.output.renderOutput(dataTable, element);\n",
              "          const docLink = document.createElement('div');\n",
              "          docLink.innerHTML = docLinkHtml;\n",
              "          element.appendChild(docLink);\n",
              "        }\n",
              "      </script>\n",
              "    </div>\n",
              "  </div>\n",
              "  "
            ]
          },
          "metadata": {},
          "execution_count": 15
        }
      ]
    },
    {
      "cell_type": "code",
      "source": [
        "receita.info()"
      ],
      "metadata": {
        "id": "MYWstmbAJZj9",
        "outputId": "7ed0d06b-573a-41b0-e007-ec549fbea4e0",
        "colab": {
          "base_uri": "https://localhost:8080/"
        }
      },
      "execution_count": 16,
      "outputs": [
        {
          "output_type": "stream",
          "name": "stdout",
          "text": [
            "<class 'pandas.core.frame.DataFrame'>\n",
            "RangeIndex: 3295 entries, 0 to 3294\n",
            "Data columns (total 4 columns):\n",
            " #   Column                      Non-Null Count  Dtype  \n",
            "---  ------                      --------------  -----  \n",
            " 0   Data                        3295 non-null   object \n",
            " 1   Canal                       3295 non-null   object \n",
            " 2   Título do canal             3295 non-null   object \n",
            " 3   Sua receita estimada (USD)  3295 non-null   float64\n",
            "dtypes: float64(1), object(3)\n",
            "memory usage: 103.1+ KB\n"
          ]
        }
      ]
    },
    {
      "cell_type": "markdown",
      "source": [
        "### 3.4.2 Visualização dos dados"
      ],
      "metadata": {
        "id": "Sm3HkO9vHtw4"
      }
    },
    {
      "cell_type": "code",
      "source": [
        "plt.figure(figsize=(10,4))\n",
        "sns.histplot(receita['Sua receita estimada (USD)'])\n",
        "plt.xlabel('Sua receita estimada (USD)',size=16)\n",
        "plt.ylabel('Total (USD)',size=16)\n",
        "plt.title('Sua receita estimada (USD)',size=16)\n",
        "plt.show()"
      ],
      "metadata": {
        "outputId": "e1ba43db-dba8-4d9c-b396-5ac9066d0f84",
        "colab": {
          "base_uri": "https://localhost:8080/",
          "height": 310
        },
        "id": "TTHZEzEKHtw4"
      },
      "execution_count": 17,
      "outputs": [
        {
          "output_type": "display_data",
          "data": {
            "text/plain": [
              "<Figure size 720x288 with 1 Axes>"
            ],
            "image/png": "[encoded data removed]"
          },
          "metadata": {
            "needs_background": "light"
          }
        }
      ]
    },
    {
      "cell_type": "code",
      "source": [
        "plt.figure(figsize=(10,4))\n",
        "sns.boxplot(receita['Sua receita estimada (USD)'])\n",
        "plt.xlabel('Sua receita estimada (USD)',size=16)\n",
        "plt.title('Sua receita estimada (USD)',size=16)\n",
        "plt.show()"
      ],
      "metadata": {
        "colab": {
          "base_uri": "https://localhost:8080/",
          "height": 310
        },
        "id": "jO-yq-1T96a6",
        "outputId": "b81c92ae-ba82-4189-e277-4224651f7d6d"
      },
      "execution_count": 18,
      "outputs": [
        {
          "output_type": "display_data",
          "data": {
            "text/plain": [
              "<Figure size 720x288 with 1 Axes>"
            ],
            "image/png": "[encoded data removed]"
          },
          "metadata": {
            "needs_background": "light"
          }
        }
      ]
    },
    {
      "cell_type": "markdown",
      "source": [
        "## 3.6 Merge dos dataframes"
      ],
      "metadata": {
        "id": "CI0TGsDdNQw3"
      }
    },
    {
      "cell_type": "code",
      "source": [
        "df = pd.merge(dados[['Data', 'Porcentagem visualizada média (%)']], dados1[['Data', 'Inscritos']], how = 'inner',  on = 'Data')"
      ],
      "metadata": {
        "id": "HSw1j6R-NBL9"
      },
      "execution_count": 19,
      "outputs": []
    },
    {
      "cell_type": "code",
      "source": [
        "df = pd.merge(df, dados2[['Data', 'Vídeos publicados']], how = 'inner',  on = 'Data')"
      ],
      "metadata": {
        "id": "XKHoL_okNpbL"
      },
      "execution_count": 20,
      "outputs": []
    },
    {
      "cell_type": "code",
      "source": [
        "df = pd.merge(df, dados3[['Data', 'Visualizações']], how = 'inner',  on = 'Data')"
      ],
      "metadata": {
        "id": "cyU8RbH5Nykz"
      },
      "execution_count": 21,
      "outputs": []
    },
    {
      "cell_type": "code",
      "source": [
        "df = pd.merge(df, receita[['Data', 'Sua receita estimada (USD)']], how = 'inner',  on = 'Data')"
      ],
      "metadata": {
        "id": "QoqAzQrRN7Fq"
      },
      "execution_count": 22,
      "outputs": []
    },
    {
      "cell_type": "code",
      "source": [
        "df.tail(20)"
      ],
      "metadata": {
        "colab": {
          "base_uri": "https://localhost:8080/",
          "height": 677
        },
        "id": "lPzMOSp2OBTX",
        "outputId": "d0a7240c-1fb1-429f-f181-f6f7fc3327c7"
      },
      "execution_count": 23,
      "outputs": [
        {
          "output_type": "execute_result",
          "data": {
            "text/plain": [
              "            Data  Porcentagem visualizada média (%)  Inscritos  \\\n",
              "3262  2022-05-17                              22.99       1494   \n",
              "3263  2022-05-18                              34.96        594   \n",
              "3264  2022-05-19                              38.41        679   \n",
              "3265  2022-05-20                              36.47        530   \n",
              "3266  2022-05-21                              35.88         81   \n",
              "3267  2022-05-22                              37.57        568   \n",
              "3268  2022-05-23                              38.22        382   \n",
              "3269  2022-05-24                              28.07        498   \n",
              "3270  2022-05-25                              39.56        598   \n",
              "3271  2022-05-26                              38.56        767   \n",
              "3272  2022-05-27                              36.71        413   \n",
              "3273  2022-05-28                              14.14        391   \n",
              "3274  2022-05-29                              40.19        580   \n",
              "3275  2022-05-30                              39.64        803   \n",
              "3276  2022-05-31                              31.94        795   \n",
              "3277  2022-06-01                              42.32        916   \n",
              "3278  2022-06-02                              39.67        895   \n",
              "3279  2022-06-03                              37.81        804   \n",
              "3280  2022-06-04                              36.92        845   \n",
              "3281  2022-06-05                              40.36       1040   \n",
              "\n",
              "      Vídeos publicados  Visualizações  Sua receita estimada (USD)  \n",
              "3262                  1         816718                      183.44  \n",
              "3263                  2         868658                      233.48  \n",
              "3264                  0         805857                      190.93  \n",
              "3265                  1         679491                      128.06  \n",
              "3266                  1         675329                      109.70  \n",
              "3267                  1         737650                      121.15  \n",
              "3268                  1         730472                      122.33  \n",
              "3269                  1         694447                      134.85  \n",
              "3270                  1         851344                      186.33  \n",
              "3271                  1         761231                      158.25  \n",
              "3272                  2         679155                      117.16  \n",
              "3273                  2         707456                       99.45  \n",
              "3274                  1         904373                      186.32  \n",
              "3275                  1         843656                      541.68  \n",
              "3276                  0         739306                      855.13  \n",
              "3277                  1         934198                      928.70  \n",
              "3278                  0         863423                      756.97  \n",
              "3279                  1         772437                      621.57  \n",
              "3280                  2         791569                      560.50  \n",
              "3281                  1         879225                      657.96  "
            ],
            "text/html": [
              "\n",
              "  <div id=\"df-778ecc9c-9c8f-42e2-957f-b88088f72c61\">\n",
              "    <div class=\"colab-df-container\">\n",
              "      <div>\n",
              "<style scoped>\n",
              "    .dataframe tbody tr th:only-of-type {\n",
              "        vertical-align: middle;\n",
              "    }\n",
              "\n",
              "    .dataframe tbody tr th {\n",
              "        vertical-align: top;\n",
              "    }\n",
              "\n",
              "    .dataframe thead th {\n",
              "        text-align: right;\n",
              "    }\n",
              "</style>\n",
              "<table border=\"1\" class=\"dataframe\">\n",
              "  <thead>\n",
              "    <tr style=\"text-align: right;\">\n",
              "      <th></th>\n",
              "      <th>Data</th>\n",
              "      <th>Porcentagem visualizada média (%)</th>\n",
              "      <th>Inscritos</th>\n",
              "      <th>Vídeos publicados</th>\n",
              "      <th>Visualizações</th>\n",
              "      <th>Sua receita estimada (USD)</th>\n",
              "    </tr>\n",
              "  </thead>\n",
              "  <tbody>\n",
              "    <tr>\n",
              "      <th>3262</th>\n",
              "      <td>2022-05-17</td>\n",
              "      <td>22.99</td>\n",
              "      <td>1494</td>\n",
              "      <td>1</td>\n",
              "      <td>816718</td>\n",
              "      <td>183.44</td>\n",
              "    </tr>\n",
              "    <tr>\n",
              "      <th>3263</th>\n",
              "      <td>2022-05-18</td>\n",
              "      <td>34.96</td>\n",
              "      <td>594</td>\n",
              "      <td>2</td>\n",
              "      <td>868658</td>\n",
              "      <td>233.48</td>\n",
              "    </tr>\n",
              "    <tr>\n",
              "      <th>3264</th>\n",
              "      <td>2022-05-19</td>\n",
              "      <td>38.41</td>\n",
              "      <td>679</td>\n",
              "      <td>0</td>\n",
              "      <td>805857</td>\n",
              "      <td>190.93</td>\n",
              "    </tr>\n",
              "    <tr>\n",
              "      <th>3265</th>\n",
              "      <td>2022-05-20</td>\n",
              "      <td>36.47</td>\n",
              "      <td>530</td>\n",
              "      <td>1</td>\n",
              "      <td>679491</td>\n",
              "      <td>128.06</td>\n",
              "    </tr>\n",
              "    <tr>\n",
              "      <th>3266</th>\n",
              "      <td>2022-05-21</td>\n",
              "      <td>35.88</td>\n",
              "      <td>81</td>\n",
              "      <td>1</td>\n",
              "      <td>675329</td>\n",
              "      <td>109.70</td>\n",
              "    </tr>\n",
              "    <tr>\n",
              "      <th>3267</th>\n",
              "      <td>2022-05-22</td>\n",
              "      <td>37.57</td>\n",
              "      <td>568</td>\n",
              "      <td>1</td>\n",
              "      <td>737650</td>\n",
              "      <td>121.15</td>\n",
              "    </tr>\n",
              "    <tr>\n",
              "      <th>3268</th>\n",
              "      <td>2022-05-23</td>\n",
              "      <td>38.22</td>\n",
              "      <td>382</td>\n",
              "      <td>1</td>\n",
              "      <td>730472</td>\n",
              "      <td>122.33</td>\n",
              "    </tr>\n",
              "    <tr>\n",
              "      <th>3269</th>\n",
              "      <td>2022-05-24</td>\n",
              "      <td>28.07</td>\n",
              "      <td>498</td>\n",
              "      <td>1</td>\n",
              "      <td>694447</td>\n",
              "      <td>134.85</td>\n",
              "    </tr>\n",
              "    <tr>\n",
              "      <th>3270</th>\n",
              "      <td>2022-05-25</td>\n",
              "      <td>39.56</td>\n",
              "      <td>598</td>\n",
              "      <td>1</td>\n",
              "      <td>851344</td>\n",
              "      <td>186.33</td>\n",
              "    </tr>\n",
              "    <tr>\n",
              "      <th>3271</th>\n",
              "      <td>2022-05-26</td>\n",
              "      <td>38.56</td>\n",
              "      <td>767</td>\n",
              "      <td>1</td>\n",
              "      <td>761231</td>\n",
              "      <td>158.25</td>\n",
              "    </tr>\n",
              "    <tr>\n",
              "      <th>3272</th>\n",
              "      <td>2022-05-27</td>\n",
              "      <td>36.71</td>\n",
              "      <td>413</td>\n",
              "      <td>2</td>\n",
              "      <td>679155</td>\n",
              "      <td>117.16</td>\n",
              "    </tr>\n",
              "    <tr>\n",
              "      <th>3273</th>\n",
              "      <td>2022-05-28</td>\n",
              "      <td>14.14</td>\n",
              "      <td>391</td>\n",
              "      <td>2</td>\n",
              "      <td>707456</td>\n",
              "      <td>99.45</td>\n",
              "    </tr>\n",
              "    <tr>\n",
              "      <th>3274</th>\n",
              "      <td>2022-05-29</td>\n",
              "      <td>40.19</td>\n",
              "      <td>580</td>\n",
              "      <td>1</td>\n",
              "      <td>904373</td>\n",
              "      <td>186.32</td>\n",
              "    </tr>\n",
              "    <tr>\n",
              "      <th>3275</th>\n",
              "      <td>2022-05-30</td>\n",
              "      <td>39.64</td>\n",
              "      <td>803</td>\n",
              "      <td>1</td>\n",
              "      <td>843656</td>\n",
              "      <td>541.68</td>\n",
              "    </tr>\n",
              "    <tr>\n",
              "      <th>3276</th>\n",
              "      <td>2022-05-31</td>\n",
              "      <td>31.94</td>\n",
              "      <td>795</td>\n",
              "      <td>0</td>\n",
              "      <td>739306</td>\n",
              "      <td>855.13</td>\n",
              "    </tr>\n",
              "    <tr>\n",
              "      <th>3277</th>\n",
              "      <td>2022-06-01</td>\n",
              "      <td>42.32</td>\n",
              "      <td>916</td>\n",
              "      <td>1</td>\n",
              "      <td>934198</td>\n",
              "      <td>928.70</td>\n",
              "    </tr>\n",
              "    <tr>\n",
              "      <th>3278</th>\n",
              "      <td>2022-06-02</td>\n",
              "      <td>39.67</td>\n",
              "      <td>895</td>\n",
              "      <td>0</td>\n",
              "      <td>863423</td>\n",
              "      <td>756.97</td>\n",
              "    </tr>\n",
              "    <tr>\n",
              "      <th>3279</th>\n",
              "      <td>2022-06-03</td>\n",
              "      <td>37.81</td>\n",
              "      <td>804</td>\n",
              "      <td>1</td>\n",
              "      <td>772437</td>\n",
              "      <td>621.57</td>\n",
              "    </tr>\n",
              "    <tr>\n",
              "      <th>3280</th>\n",
              "      <td>2022-06-04</td>\n",
              "      <td>36.92</td>\n",
              "      <td>845</td>\n",
              "      <td>2</td>\n",
              "      <td>791569</td>\n",
              "      <td>560.50</td>\n",
              "    </tr>\n",
              "    <tr>\n",
              "      <th>3281</th>\n",
              "      <td>2022-06-05</td>\n",
              "      <td>40.36</td>\n",
              "      <td>1040</td>\n",
              "      <td>1</td>\n",
              "      <td>879225</td>\n",
              "      <td>657.96</td>\n",
              "    </tr>\n",
              "  </tbody>\n",
              "</table>\n",
              "</div>\n",
              "      <button class=\"colab-df-convert\" onclick=\"convertToInteractive('df-778ecc9c-9c8f-42e2-957f-b88088f72c61')\"\n",
              "              title=\"Convert this dataframe to an interactive table.\"\n",
              "              style=\"display:none;\">\n",
              "        \n",
              "  <svg xmlns=\"http://www.w3.org/2000/svg\" height=\"24px\"viewBox=\"0 0 24 24\"\n",
              "       width=\"24px\">\n",
              "    <path d=\"M0 0h24v24H0V0z\" fill=\"none\"/>\n",
              "    <path d=\"M18.56 5.44l.94 2.06.94-2.06 2.06-.94-2.06-.94-.94-2.06-.94 2.06-2.06.94zm-11 1L8.5 8.5l.94-2.06 2.06-.94-2.06-.94L8.5 2.5l-.94 2.06-2.06.94zm10 10l.94 2.06.94-2.06 2.06-.94-2.06-.94-.94-2.06-.94 2.06-2.06.94z\"/><path d=\"M17.41 7.96l-1.37-1.37c-.4-.4-.92-.59-1.43-.59-.52 0-1.04.2-1.43.59L10.3 9.45l-7.72 7.72c-.78.78-.78 2.05 0 2.83L4 21.41c.39.39.9.59 1.41.59.51 0 1.02-.2 1.41-.59l7.78-7.78 2.81-2.81c.8-.78.8-2.07 0-2.86zM5.41 20L4 18.59l7.72-7.72 1.47 1.35L5.41 20z\"/>\n",
              "  </svg>\n",
              "      </button>\n",
              "      \n",
              "  <style>\n",
              "    .colab-df-container {\n",
              "      display:flex;\n",
              "      flex-wrap:wrap;\n",
              "      gap: 12px;\n",
              "    }\n",
              "\n",
              "    .colab-df-convert {\n",
              "      background-color: #E8F0FE;\n",
              "      border: none;\n",
              "      border-radius: 50%;\n",
              "      cursor: pointer;\n",
              "      display: none;\n",
              "      fill: #1967D2;\n",
              "      height: 32px;\n",
              "      padding: 0 0 0 0;\n",
              "      width: 32px;\n",
              "    }\n",
              "\n",
              "    .colab-df-convert:hover {\n",
              "      background-color: #E2EBFA;\n",
              "      box-shadow: 0px 1px 2px rgba(60, 64, 67, 0.3), 0px 1px 3px 1px rgba(60, 64, 67, 0.15);\n",
              "      fill: #174EA6;\n",
              "    }\n",
              "\n",
              "    [theme=dark] .colab-df-convert {\n",
              "      background-color: #3B4455;\n",
              "      fill: #D2E3FC;\n",
              "    }\n",
              "\n",
              "    [theme=dark] .colab-df-convert:hover {\n",
              "      background-color: #434B5C;\n",
              "      box-shadow: 0px 1px 3px 1px rgba(0, 0, 0, 0.15);\n",
              "      filter: drop-shadow(0px 1px 2px rgba(0, 0, 0, 0.3));\n",
              "      fill: #FFFFFF;\n",
              "    }\n",
              "  </style>\n",
              "\n",
              "      <script>\n",
              "        const buttonEl =\n",
              "          document.querySelector('#df-778ecc9c-9c8f-42e2-957f-b88088f72c61 button.colab-df-convert');\n",
              "        buttonEl.style.display =\n",
              "          google.colab.kernel.accessAllowed ? 'block' : 'none';\n",
              "\n",
              "        async function convertToInteractive(key) {\n",
              "          const element = document.querySelector('#df-778ecc9c-9c8f-42e2-957f-b88088f72c61');\n",
              "          const dataTable =\n",
              "            await google.colab.kernel.invokeFunction('convertToInteractive',\n",
              "                                                     [key], {});\n",
              "          if (!dataTable) return;\n",
              "\n",
              "          const docLinkHtml = 'Like what you see? Visit the ' +\n",
              "            '<a target=\"_blank\" href=https://colab.research.google.com/notebooks/data_table.ipynb>data table notebook</a>'\n",
              "            + ' to learn more about interactive tables.';\n",
              "          element.innerHTML = '';\n",
              "          dataTable['output_type'] = 'display_data';\n",
              "          await google.colab.output.renderOutput(dataTable, element);\n",
              "          const docLink = document.createElement('div');\n",
              "          docLink.innerHTML = docLinkHtml;\n",
              "          element.appendChild(docLink);\n",
              "        }\n",
              "      </script>\n",
              "    </div>\n",
              "  </div>\n",
              "  "
            ]
          },
          "metadata": {},
          "execution_count": 23
        }
      ]
    },
    {
      "cell_type": "markdown",
      "source": [
        "## 3.7 Visualização da variável target ao longo do tempo"
      ],
      "metadata": {
        "id": "jG3mwVO4OqyS"
      }
    },
    {
      "cell_type": "code",
      "source": [
        "plt.figure(figsize=(30,4))\n",
        "df['Sua receita estimada (USD)'].plot()\n",
        "plt.xticks(fontsize=22)\n",
        "plt.yticks(fontsize=22)\n",
        "plt.xlabel('Período em dias',size=22)\n",
        "plt.ylabel('Receita',size=22)\n",
        "plt.title('Histórico de Receita Estimada',size=22)\n",
        "\n",
        "plt.show()"
      ],
      "metadata": {
        "colab": {
          "base_uri": "https://localhost:8080/",
          "height": 228
        },
        "id": "2NCmGNaCOEET",
        "outputId": "bd759885-6a69-491c-85aa-9ec1d34c5c19"
      },
      "execution_count": 25,
      "outputs": [
        {
          "output_type": "display_data",
          "data": {
            "text/plain": [
              "<Figure size 2160x288 with 1 Axes>"
            ],
            "image/png": "[encoded data removed]"
          },
          "metadata": {
            "needs_background": "light"
          }
        }
      ]
    },
    {
      "cell_type": "markdown",
      "source": [
        "# 4 Análise descritiva"
      ],
      "metadata": {
        "id": "--0Vw_g8-DYL"
      }
    },
    {
      "cell_type": "code",
      "source": [
        "df.info()"
      ],
      "metadata": {
        "colab": {
          "base_uri": "https://localhost:8080/"
        },
        "id": "_qAEJ7MA-F2M",
        "outputId": "c2cd15b4-5b0d-48aa-f248-a7cdc76ad3de"
      },
      "execution_count": 26,
      "outputs": [
        {
          "output_type": "stream",
          "name": "stdout",
          "text": [
            "<class 'pandas.core.frame.DataFrame'>\n",
            "Int64Index: 3282 entries, 0 to 3281\n",
            "Data columns (total 6 columns):\n",
            " #   Column                             Non-Null Count  Dtype  \n",
            "---  ------                             --------------  -----  \n",
            " 0   Data                               3282 non-null   object \n",
            " 1   Porcentagem visualizada média (%)  3277 non-null   float64\n",
            " 2   Inscritos                          3282 non-null   int64  \n",
            " 3   Vídeos publicados                  3282 non-null   int64  \n",
            " 4   Visualizações                      3282 non-null   int64  \n",
            " 5   Sua receita estimada (USD)         3282 non-null   float64\n",
            "dtypes: float64(2), int64(3), object(1)\n",
            "memory usage: 179.5+ KB\n"
          ]
        }
      ]
    },
    {
      "cell_type": "code",
      "source": [
        "#data\n",
        "df['Data'] = df['Data'].astype('datetime64')"
      ],
      "metadata": {
        "id": "iWHmI3hh-Htz"
      },
      "execution_count": 27,
      "outputs": []
    },
    {
      "cell_type": "code",
      "source": [
        "df.info()"
      ],
      "metadata": {
        "colab": {
          "base_uri": "https://localhost:8080/"
        },
        "id": "zJyhiUo5-NkP",
        "outputId": "2a35f02a-70f3-4324-f2dc-c14b6a87475a"
      },
      "execution_count": 28,
      "outputs": [
        {
          "output_type": "stream",
          "name": "stdout",
          "text": [
            "<class 'pandas.core.frame.DataFrame'>\n",
            "Int64Index: 3282 entries, 0 to 3281\n",
            "Data columns (total 6 columns):\n",
            " #   Column                             Non-Null Count  Dtype         \n",
            "---  ------                             --------------  -----         \n",
            " 0   Data                               3282 non-null   datetime64[ns]\n",
            " 1   Porcentagem visualizada média (%)  3277 non-null   float64       \n",
            " 2   Inscritos                          3282 non-null   int64         \n",
            " 3   Vídeos publicados                  3282 non-null   int64         \n",
            " 4   Visualizações                      3282 non-null   int64         \n",
            " 5   Sua receita estimada (USD)         3282 non-null   float64       \n",
            "dtypes: datetime64[ns](1), float64(2), int64(3)\n",
            "memory usage: 179.5 KB\n"
          ]
        }
      ]
    },
    {
      "cell_type": "code",
      "source": [
        "df.describe(include='all')"
      ],
      "metadata": {
        "colab": {
          "base_uri": "https://localhost:8080/",
          "height": 457
        },
        "id": "XVSbWh1P-OZt",
        "outputId": "da262c20-4287-456b-b436-da83c78e1302"
      },
      "execution_count": 29,
      "outputs": [
        {
          "output_type": "execute_result",
          "data": {
            "text/plain": [
              "                       Data  Porcentagem visualizada média (%)  Inscritos  \\\n",
              "count                  3282                            3277.00    3282.00   \n",
              "unique                 3282                                NaN        NaN   \n",
              "top     2013-06-11 00:00:00                                NaN        NaN   \n",
              "freq                      1                                NaN        NaN   \n",
              "first   2013-06-11 00:00:00                                NaN        NaN   \n",
              "last    2022-06-05 00:00:00                                NaN        NaN   \n",
              "mean                    NaN                              49.29    2789.51   \n",
              "std                     NaN                              12.89    3298.99   \n",
              "min                     NaN                               0.00   -4153.00   \n",
              "25%                     NaN                              41.77     799.25   \n",
              "50%                     NaN                              46.15    2088.00   \n",
              "75%                     NaN                              57.59    4040.25   \n",
              "max                     NaN                              85.29   84100.00   \n",
              "\n",
              "        Vídeos publicados  Visualizações  Sua receita estimada (USD)  \n",
              "count             3282.00        3282.00                     3282.00  \n",
              "unique                NaN            NaN                         NaN  \n",
              "top                   NaN            NaN                         NaN  \n",
              "freq                  NaN            NaN                         NaN  \n",
              "first                 NaN            NaN                         NaN  \n",
              "last                  NaN            NaN                         NaN  \n",
              "mean                 1.03      814514.07                     1105.66  \n",
              "std                  0.60      622915.98                     1718.36  \n",
              "min                  0.00           0.00                        0.00  \n",
              "25%                  1.00      511120.25                      224.74  \n",
              "50%                  1.00      844329.50                      708.47  \n",
              "75%                  1.00     1113333.50                     1605.54  \n",
              "max                  5.00    23004096.00                    76230.04  "
            ],
            "text/html": [
              "\n",
              "  <div id=\"df-cd3d9334-1c55-4177-8c20-32541801a5ba\">\n",
              "    <div class=\"colab-df-container\">\n",
              "      <div>\n",
              "<style scoped>\n",
              "    .dataframe tbody tr th:only-of-type {\n",
              "        vertical-align: middle;\n",
              "    }\n",
              "\n",
              "    .dataframe tbody tr th {\n",
              "        vertical-align: top;\n",
              "    }\n",
              "\n",
              "    .dataframe thead th {\n",
              "        text-align: right;\n",
              "    }\n",
              "</style>\n",
              "<table border=\"1\" class=\"dataframe\">\n",
              "  <thead>\n",
              "    <tr style=\"text-align: right;\">\n",
              "      <th></th>\n",
              "      <th>Data</th>\n",
              "      <th>Porcentagem visualizada média (%)</th>\n",
              "      <th>Inscritos</th>\n",
              "      <th>Vídeos publicados</th>\n",
              "      <th>Visualizações</th>\n",
              "      <th>Sua receita estimada (USD)</th>\n",
              "    </tr>\n",
              "  </thead>\n",
              "  <tbody>\n",
              "    <tr>\n",
              "      <th>count</th>\n",
              "      <td>3282</td>\n",
              "      <td>3277.00</td>\n",
              "      <td>3282.00</td>\n",
              "      <td>3282.00</td>\n",
              "      <td>3282.00</td>\n",
              "      <td>3282.00</td>\n",
              "    </tr>\n",
              "    <tr>\n",
              "      <th>unique</th>\n",
              "      <td>3282</td>\n",
              "      <td>NaN</td>\n",
              "      <td>NaN</td>\n",
              "      <td>NaN</td>\n",
              "      <td>NaN</td>\n",
              "      <td>NaN</td>\n",
              "    </tr>\n",
              "    <tr>\n",
              "      <th>top</th>\n",
              "      <td>2013-06-11 00:00:00</td>\n",
              "      <td>NaN</td>\n",
              "      <td>NaN</td>\n",
              "      <td>NaN</td>\n",
              "      <td>NaN</td>\n",
              "      <td>NaN</td>\n",
              "    </tr>\n",
              "    <tr>\n",
              "      <th>freq</th>\n",
              "      <td>1</td>\n",
              "      <td>NaN</td>\n",
              "      <td>NaN</td>\n",
              "      <td>NaN</td>\n",
              "      <td>NaN</td>\n",
              "      <td>NaN</td>\n",
              "    </tr>\n",
              "    <tr>\n",
              "      <th>first</th>\n",
              "      <td>2013-06-11 00:00:00</td>\n",
              "      <td>NaN</td>\n",
              "      <td>NaN</td>\n",
              "      <td>NaN</td>\n",
              "      <td>NaN</td>\n",
              "      <td>NaN</td>\n",
              "    </tr>\n",
              "    <tr>\n",
              "      <th>last</th>\n",
              "      <td>2022-06-05 00:00:00</td>\n",
              "      <td>NaN</td>\n",
              "      <td>NaN</td>\n",
              "      <td>NaN</td>\n",
              "      <td>NaN</td>\n",
              "      <td>NaN</td>\n",
              "    </tr>\n",
              "    <tr>\n",
              "      <th>mean</th>\n",
              "      <td>NaN</td>\n",
              "      <td>49.29</td>\n",
              "      <td>2789.51</td>\n",
              "      <td>1.03</td>\n",
              "      <td>814514.07</td>\n",
              "      <td>1105.66</td>\n",
              "    </tr>\n",
              "    <tr>\n",
              "      <th>std</th>\n",
              "      <td>NaN</td>\n",
              "      <td>12.89</td>\n",
              "      <td>3298.99</td>\n",
              "      <td>0.60</td>\n",
              "      <td>622915.98</td>\n",
              "      <td>1718.36</td>\n",
              "    </tr>\n",
              "    <tr>\n",
              "      <th>min</th>\n",
              "      <td>NaN</td>\n",
              "      <td>0.00</td>\n",
              "      <td>-4153.00</td>\n",
              "      <td>0.00</td>\n",
              "      <td>0.00</td>\n",
              "      <td>0.00</td>\n",
              "    </tr>\n",
              "    <tr>\n",
              "      <th>25%</th>\n",
              "      <td>NaN</td>\n",
              "      <td>41.77</td>\n",
              "      <td>799.25</td>\n",
              "      <td>1.00</td>\n",
              "      <td>511120.25</td>\n",
              "      <td>224.74</td>\n",
              "    </tr>\n",
              "    <tr>\n",
              "      <th>50%</th>\n",
              "      <td>NaN</td>\n",
              "      <td>46.15</td>\n",
              "      <td>2088.00</td>\n",
              "      <td>1.00</td>\n",
              "      <td>844329.50</td>\n",
              "      <td>708.47</td>\n",
              "    </tr>\n",
              "    <tr>\n",
              "      <th>75%</th>\n",
              "      <td>NaN</td>\n",
              "      <td>57.59</td>\n",
              "      <td>4040.25</td>\n",
              "      <td>1.00</td>\n",
              "      <td>1113333.50</td>\n",
              "      <td>1605.54</td>\n",
              "    </tr>\n",
              "    <tr>\n",
              "      <th>max</th>\n",
              "      <td>NaN</td>\n",
              "      <td>85.29</td>\n",
              "      <td>84100.00</td>\n",
              "      <td>5.00</td>\n",
              "      <td>23004096.00</td>\n",
              "      <td>76230.04</td>\n",
              "    </tr>\n",
              "  </tbody>\n",
              "</table>\n",
              "</div>\n",
              "      <button class=\"colab-df-convert\" onclick=\"convertToInteractive('df-cd3d9334-1c55-4177-8c20-32541801a5ba')\"\n",
              "              title=\"Convert this dataframe to an interactive table.\"\n",
              "              style=\"display:none;\">\n",
              "        \n",
              "  <svg xmlns=\"http://www.w3.org/2000/svg\" height=\"24px\"viewBox=\"0 0 24 24\"\n",
              "       width=\"24px\">\n",
              "    <path d=\"M0 0h24v24H0V0z\" fill=\"none\"/>\n",
              "    <path d=\"M18.56 5.44l.94 2.06.94-2.06 2.06-.94-2.06-.94-.94-2.06-.94 2.06-2.06.94zm-11 1L8.5 8.5l.94-2.06 2.06-.94-2.06-.94L8.5 2.5l-.94 2.06-2.06.94zm10 10l.94 2.06.94-2.06 2.06-.94-2.06-.94-.94-2.06-.94 2.06-2.06.94z\"/><path d=\"M17.41 7.96l-1.37-1.37c-.4-.4-.92-.59-1.43-.59-.52 0-1.04.2-1.43.59L10.3 9.45l-7.72 7.72c-.78.78-.78 2.05 0 2.83L4 21.41c.39.39.9.59 1.41.59.51 0 1.02-.2 1.41-.59l7.78-7.78 2.81-2.81c.8-.78.8-2.07 0-2.86zM5.41 20L4 18.59l7.72-7.72 1.47 1.35L5.41 20z\"/>\n",
              "  </svg>\n",
              "      </button>\n",
              "      \n",
              "  <style>\n",
              "    .colab-df-container {\n",
              "      display:flex;\n",
              "      flex-wrap:wrap;\n",
              "      gap: 12px;\n",
              "    }\n",
              "\n",
              "    .colab-df-convert {\n",
              "      background-color: #E8F0FE;\n",
              "      border: none;\n",
              "      border-radius: 50%;\n",
              "      cursor: pointer;\n",
              "      display: none;\n",
              "      fill: #1967D2;\n",
              "      height: 32px;\n",
              "      padding: 0 0 0 0;\n",
              "      width: 32px;\n",
              "    }\n",
              "\n",
              "    .colab-df-convert:hover {\n",
              "      background-color: #E2EBFA;\n",
              "      box-shadow: 0px 1px 2px rgba(60, 64, 67, 0.3), 0px 1px 3px 1px rgba(60, 64, 67, 0.15);\n",
              "      fill: #174EA6;\n",
              "    }\n",
              "\n",
              "    [theme=dark] .colab-df-convert {\n",
              "      background-color: #3B4455;\n",
              "      fill: #D2E3FC;\n",
              "    }\n",
              "\n",
              "    [theme=dark] .colab-df-convert:hover {\n",
              "      background-color: #434B5C;\n",
              "      box-shadow: 0px 1px 3px 1px rgba(0, 0, 0, 0.15);\n",
              "      filter: drop-shadow(0px 1px 2px rgba(0, 0, 0, 0.3));\n",
              "      fill: #FFFFFF;\n",
              "    }\n",
              "  </style>\n",
              "\n",
              "      <script>\n",
              "        const buttonEl =\n",
              "          document.querySelector('#df-cd3d9334-1c55-4177-8c20-32541801a5ba button.colab-df-convert');\n",
              "        buttonEl.style.display =\n",
              "          google.colab.kernel.accessAllowed ? 'block' : 'none';\n",
              "\n",
              "        async function convertToInteractive(key) {\n",
              "          const element = document.querySelector('#df-cd3d9334-1c55-4177-8c20-32541801a5ba');\n",
              "          const dataTable =\n",
              "            await google.colab.kernel.invokeFunction('convertToInteractive',\n",
              "                                                     [key], {});\n",
              "          if (!dataTable) return;\n",
              "\n",
              "          const docLinkHtml = 'Like what you see? Visit the ' +\n",
              "            '<a target=\"_blank\" href=https://colab.research.google.com/notebooks/data_table.ipynb>data table notebook</a>'\n",
              "            + ' to learn more about interactive tables.';\n",
              "          element.innerHTML = '';\n",
              "          dataTable['output_type'] = 'display_data';\n",
              "          await google.colab.output.renderOutput(dataTable, element);\n",
              "          const docLink = document.createElement('div');\n",
              "          docLink.innerHTML = docLinkHtml;\n",
              "          element.appendChild(docLink);\n",
              "        }\n",
              "      </script>\n",
              "    </div>\n",
              "  </div>\n",
              "  "
            ]
          },
          "metadata": {},
          "execution_count": 29
        }
      ]
    },
    {
      "cell_type": "code",
      "source": [
        "df.shape"
      ],
      "metadata": {
        "colab": {
          "base_uri": "https://localhost:8080/"
        },
        "id": "ppwJ3bdFGC2Z",
        "outputId": "2427bbf5-8e48-48d9-8b2b-58c5c3dc93a4"
      },
      "execution_count": 30,
      "outputs": [
        {
          "output_type": "execute_result",
          "data": {
            "text/plain": [
              "(3282, 6)"
            ]
          },
          "metadata": {},
          "execution_count": 30
        }
      ]
    },
    {
      "cell_type": "code",
      "source": [
        "zeros = df[df[\"Sua receita estimada (USD)\"]==0].index\n",
        "df2 = df.drop(zeros)"
      ],
      "metadata": {
        "id": "72uD4Nu4Gpp6"
      },
      "execution_count": 31,
      "outputs": []
    },
    {
      "cell_type": "code",
      "source": [
        "df2.shape"
      ],
      "metadata": {
        "colab": {
          "base_uri": "https://localhost:8080/"
        },
        "id": "W5-TEWtfHIPr",
        "outputId": "0a6d04cc-6e0f-46db-8ff5-62eacbfd913b"
      },
      "execution_count": 32,
      "outputs": [
        {
          "output_type": "execute_result",
          "data": {
            "text/plain": [
              "(3269, 6)"
            ]
          },
          "metadata": {},
          "execution_count": 32
        }
      ]
    },
    {
      "cell_type": "code",
      "source": [
        "df = df2"
      ],
      "metadata": {
        "id": "Bsp2BfuuHK4q"
      },
      "execution_count": 33,
      "outputs": []
    },
    {
      "cell_type": "markdown",
      "source": [
        "# 4.1 Teste de normalidade"
      ],
      "metadata": {
        "id": "2DR-47jz-u-i"
      }
    },
    {
      "cell_type": "code",
      "source": [
        "shapiro_stat, shapiro_p_valor = stats.shapiro(df['Sua receita estimada (USD)'])"
      ],
      "metadata": {
        "id": "b1_vH1qv-zk8"
      },
      "execution_count": 34,
      "outputs": []
    },
    {
      "cell_type": "code",
      "source": [
        "print('O valor da estatística de Shapiro-Wilk = ' + str(shapiro_stat))\n",
        "print('O valor de p de Shapiro-Wilk = ' + str(shapiro_p_valor))"
      ],
      "metadata": {
        "colab": {
          "base_uri": "https://localhost:8080/"
        },
        "id": "QD8gc_MD-13K",
        "outputId": "8f794123-9a40-4b65-944a-edb5e3f9d942"
      },
      "execution_count": 35,
      "outputs": [
        {
          "output_type": "stream",
          "name": "stdout",
          "text": [
            "O valor da estatística de Shapiro-Wilk = 0.4038146734237671\n",
            "O valor de p de Shapiro-Wilk = 0.0\n"
          ]
        }
      ]
    },
    {
      "cell_type": "markdown",
      "source": [
        "Distribuição de receita não é normal."
      ],
      "metadata": {
        "id": "Ms-q3N4hEz0V"
      }
    },
    {
      "cell_type": "code",
      "source": [
        "df['log_receita'] = np.log(df['Sua receita estimada (USD)'])\n",
        "df['log_receita'].plot.hist(bins=20)"
      ],
      "metadata": {
        "colab": {
          "base_uri": "https://localhost:8080/",
          "height": 290
        },
        "id": "NpDiQvfe_D80",
        "outputId": "99395fb5-de04-421c-f580-696aca09df43"
      },
      "execution_count": 36,
      "outputs": [
        {
          "output_type": "execute_result",
          "data": {
            "text/plain": [
              "<matplotlib.axes._subplots.AxesSubplot at 0x7fb27748ab10>"
            ]
          },
          "metadata": {},
          "execution_count": 36
        },
        {
          "output_type": "display_data",
          "data": {
            "text/plain": [
              "<Figure size 432x288 with 1 Axes>"
            ],
            "image/png": "[encoded data removed]"
          },
          "metadata": {
            "needs_background": "light"
          }
        }
      ]
    },
    {
      "cell_type": "code",
      "source": [
        "shapiro_stat2, shapiro_p_valor2 = stats.shapiro(df['log_receita'])\n",
        "print('O valor da estatística de Shapiro-Wilk = ' + str(shapiro_stat2))\n",
        "print('O valor de p de Shapiro-Wilk = ' + str(shapiro_p_valor2))"
      ],
      "metadata": {
        "colab": {
          "base_uri": "https://localhost:8080/"
        },
        "id": "ua5cUiHIHktC",
        "outputId": "79e4c618-7e36-4944-f3ba-cd2dfd5b4e77"
      },
      "execution_count": 37,
      "outputs": [
        {
          "output_type": "stream",
          "name": "stdout",
          "text": [
            "O valor da estatística de Shapiro-Wilk = 0.9202501177787781\n",
            "O valor de p de Shapiro-Wilk = 1.5955367884901194e-38\n"
          ]
        }
      ]
    },
    {
      "cell_type": "markdown",
      "source": [
        "Agora está bem próxima de uma normal"
      ],
      "metadata": {
        "id": "dWG7QxzfJGJS"
      }
    },
    {
      "cell_type": "markdown",
      "source": [
        "Padronizando o valor de log_receita:"
      ],
      "metadata": {
        "id": "kiHU7jzdKNe6"
      }
    },
    {
      "cell_type": "code",
      "source": [
        "df['log_receita_padronizado'] = ( df['log_receita'] - df['log_receita'].mean() ) / df['log_receita'].std()\n",
        "df['log_receita_padronizado'].plot.hist(bins=20)"
      ],
      "metadata": {
        "colab": {
          "base_uri": "https://localhost:8080/",
          "height": 290
        },
        "id": "enKb826pKTX9",
        "outputId": "ac24ac1e-09f5-4e8f-d951-43a624b1f439"
      },
      "execution_count": 38,
      "outputs": [
        {
          "output_type": "execute_result",
          "data": {
            "text/plain": [
              "<matplotlib.axes._subplots.AxesSubplot at 0x7fb27737c290>"
            ]
          },
          "metadata": {},
          "execution_count": 38
        },
        {
          "output_type": "display_data",
          "data": {
            "text/plain": [
              "<Figure size 432x288 with 1 Axes>"
            ],
            "image/png": "[encoded data removed]"
          },
          "metadata": {
            "needs_background": "light"
          }
        }
      ]
    },
    {
      "cell_type": "markdown",
      "source": [
        "Verificando a média e o desvio padrão:"
      ],
      "metadata": {
        "id": "OZIO6OZnJmV6"
      }
    },
    {
      "cell_type": "code",
      "source": [
        "x = df['log_receita_padronizado']\n",
        "# calculando a média\n",
        "mu = np.mean(x)\n",
        "# calculando o desvio-padrão populacional\n",
        "std = np.std(x)\n",
        "#Imprimindo a média e o desvio-padrão\n",
        "round(mu,3),round(std,3)"
      ],
      "metadata": {
        "colab": {
          "base_uri": "https://localhost:8080/"
        },
        "id": "uDh5vTquJpUl",
        "outputId": "f85499f9-43c4-4885-f4eb-1e5358e26325"
      },
      "execution_count": 39,
      "outputs": [
        {
          "output_type": "execute_result",
          "data": {
            "text/plain": [
              "(-0.0, 1.0)"
            ]
          },
          "metadata": {},
          "execution_count": 39
        }
      ]
    },
    {
      "cell_type": "markdown",
      "source": [
        "Verificando o z-score:"
      ],
      "metadata": {
        "id": "sJE1SQVNJYg4"
      }
    },
    {
      "cell_type": "code",
      "source": [
        "stats.norm.interval(alpha=0.95,loc=mu,scale=std)"
      ],
      "metadata": {
        "colab": {
          "base_uri": "https://localhost:8080/"
        },
        "id": "JCdx5vP_I9zq",
        "outputId": "0e609825-9e4a-481f-fd1b-3ffac58fdff3"
      },
      "execution_count": 40,
      "outputs": [
        {
          "output_type": "execute_result",
          "data": {
            "text/plain": [
              "(-1.9596641812519464, 1.9596641812519455)"
            ]
          },
          "metadata": {},
          "execution_count": 40
        }
      ]
    },
    {
      "cell_type": "code",
      "source": [
        "# armazenando os dados em variáveis \n",
        "Z_score_inf = stats.norm.interval(alpha=0.95,loc=mu,scale=std)[0]\n",
        "Z_score_sup = stats.norm.interval(alpha=0.95,loc=mu,scale=std)[1]"
      ],
      "metadata": {
        "id": "zhnQLZ8bLPRs"
      },
      "execution_count": 41,
      "outputs": []
    },
    {
      "cell_type": "markdown",
      "source": [
        "Com os limites para o Alpha de 0.95 conseguimos executar a inferência e descobrir quais datas tem receitas acima ou abaixo da média com um nível de confiança de 95%."
      ],
      "metadata": {
        "id": "pZkCwQ2sK00J"
      }
    },
    {
      "cell_type": "markdown",
      "source": [
        "## 4.2 Receitas abaixo da média"
      ],
      "metadata": {
        "id": "J4-KQi98LY-u"
      }
    },
    {
      "cell_type": "code",
      "source": [
        "df_inf = df[df['log_receita_padronizado']<Z_score_inf]"
      ],
      "metadata": {
        "id": "05f6jepRLEFZ"
      },
      "execution_count": 42,
      "outputs": []
    },
    {
      "cell_type": "markdown",
      "source": [
        "## 4.3 Receitas acima da média"
      ],
      "metadata": {
        "id": "VDMoFo_HLs_x"
      }
    },
    {
      "cell_type": "code",
      "source": [
        "df_sup = df[df['log_receita_padronizado']<Z_score_sup]"
      ],
      "metadata": {
        "id": "5lUIgYt4Lets"
      },
      "execution_count": 43,
      "outputs": []
    },
    {
      "cell_type": "markdown",
      "source": [
        "## 4.4 Receitas em 2021"
      ],
      "metadata": {
        "id": "3R5S2nVrNWLT"
      }
    },
    {
      "cell_type": "code",
      "source": [
        "df_2021 = df.query(\"Data >= '2021-01-01' and Data <= '2021-12-31'\")"
      ],
      "metadata": {
        "id": "-vK7jn7kLygP"
      },
      "execution_count": 44,
      "outputs": []
    },
    {
      "cell_type": "code",
      "source": [
        "df_2021['log_receita_padronizado'].plot.hist()"
      ],
      "metadata": {
        "colab": {
          "base_uri": "https://localhost:8080/",
          "height": 290
        },
        "id": "nPQnSJuVN_lt",
        "outputId": "46ebdeeb-9767-4e04-bcea-aae15e248cfb"
      },
      "execution_count": 45,
      "outputs": [
        {
          "output_type": "execute_result",
          "data": {
            "text/plain": [
              "<matplotlib.axes._subplots.AxesSubplot at 0x7fb27737c450>"
            ]
          },
          "metadata": {},
          "execution_count": 45
        },
        {
          "output_type": "display_data",
          "data": {
            "text/plain": [
              "<Figure size 432x288 with 1 Axes>"
            ],
            "image/png": "[encoded data removed]"
          },
          "metadata": {
            "needs_background": "light"
          }
        }
      ]
    },
    {
      "cell_type": "code",
      "source": [
        "df_2021['log_receita_padronizado'].plot.box()"
      ],
      "metadata": {
        "colab": {
          "base_uri": "https://localhost:8080/",
          "height": 291
        },
        "id": "PhB0NmWwOV8J",
        "outputId": "9301399c-ae35-415d-9557-0b6108fcbc96"
      },
      "execution_count": 46,
      "outputs": [
        {
          "output_type": "execute_result",
          "data": {
            "text/plain": [
              "<matplotlib.axes._subplots.AxesSubplot at 0x7fb277d8fa90>"
            ]
          },
          "metadata": {},
          "execution_count": 46
        },
        {
          "output_type": "display_data",
          "data": {
            "text/plain": [
              "<Figure size 432x288 with 1 Axes>"
            ],
            "image/png": "[encoded data removed]"
          },
          "metadata": {
            "needs_background": "light"
          }
        }
      ]
    },
    {
      "cell_type": "code",
      "source": [
        "df_2021[df_2021['log_receita_padronizado'] > 3]"
      ],
      "metadata": {
        "colab": {
          "base_uri": "https://localhost:8080/",
          "height": 125
        },
        "id": "UMAJaYpvOkOQ",
        "outputId": "4f1ef805-86f7-4d20-f465-ee7bafe7fb3b"
      },
      "execution_count": 47,
      "outputs": [
        {
          "output_type": "execute_result",
          "data": {
            "text/plain": [
              "           Data  Porcentagem visualizada média (%)  Inscritos  \\\n",
              "3094 2021-11-30                              42.05        234   \n",
              "\n",
              "      Vídeos publicados  Visualizações  Sua receita estimada (USD)  \\\n",
              "3094                  1         464402                    76230.04   \n",
              "\n",
              "      log_receita  log_receita_padronizado  \n",
              "3094        11.24                     3.42  "
            ],
            "text/html": [
              "\n",
              "  <div id=\"df-3a9ebc0b-4915-4989-8a68-884cd05869ee\">\n",
              "    <div class=\"colab-df-container\">\n",
              "      <div>\n",
              "<style scoped>\n",
              "    .dataframe tbody tr th:only-of-type {\n",
              "        vertical-align: middle;\n",
              "    }\n",
              "\n",
              "    .dataframe tbody tr th {\n",
              "        vertical-align: top;\n",
              "    }\n",
              "\n",
              "    .dataframe thead th {\n",
              "        text-align: right;\n",
              "    }\n",
              "</style>\n",
              "<table border=\"1\" class=\"dataframe\">\n",
              "  <thead>\n",
              "    <tr style=\"text-align: right;\">\n",
              "      <th></th>\n",
              "      <th>Data</th>\n",
              "      <th>Porcentagem visualizada média (%)</th>\n",
              "      <th>Inscritos</th>\n",
              "      <th>Vídeos publicados</th>\n",
              "      <th>Visualizações</th>\n",
              "      <th>Sua receita estimada (USD)</th>\n",
              "      <th>log_receita</th>\n",
              "      <th>log_receita_padronizado</th>\n",
              "    </tr>\n",
              "  </thead>\n",
              "  <tbody>\n",
              "    <tr>\n",
              "      <th>3094</th>\n",
              "      <td>2021-11-30</td>\n",
              "      <td>42.05</td>\n",
              "      <td>234</td>\n",
              "      <td>1</td>\n",
              "      <td>464402</td>\n",
              "      <td>76230.04</td>\n",
              "      <td>11.24</td>\n",
              "      <td>3.42</td>\n",
              "    </tr>\n",
              "  </tbody>\n",
              "</table>\n",
              "</div>\n",
              "      <button class=\"colab-df-convert\" onclick=\"convertToInteractive('df-3a9ebc0b-4915-4989-8a68-884cd05869ee')\"\n",
              "              title=\"Convert this dataframe to an interactive table.\"\n",
              "              style=\"display:none;\">\n",
              "        \n",
              "  <svg xmlns=\"http://www.w3.org/2000/svg\" height=\"24px\"viewBox=\"0 0 24 24\"\n",
              "       width=\"24px\">\n",
              "    <path d=\"M0 0h24v24H0V0z\" fill=\"none\"/>\n",
              "    <path d=\"M18.56 5.44l.94 2.06.94-2.06 2.06-.94-2.06-.94-.94-2.06-.94 2.06-2.06.94zm-11 1L8.5 8.5l.94-2.06 2.06-.94-2.06-.94L8.5 2.5l-.94 2.06-2.06.94zm10 10l.94 2.06.94-2.06 2.06-.94-2.06-.94-.94-2.06-.94 2.06-2.06.94z\"/><path d=\"M17.41 7.96l-1.37-1.37c-.4-.4-.92-.59-1.43-.59-.52 0-1.04.2-1.43.59L10.3 9.45l-7.72 7.72c-.78.78-.78 2.05 0 2.83L4 21.41c.39.39.9.59 1.41.59.51 0 1.02-.2 1.41-.59l7.78-7.78 2.81-2.81c.8-.78.8-2.07 0-2.86zM5.41 20L4 18.59l7.72-7.72 1.47 1.35L5.41 20z\"/>\n",
              "  </svg>\n",
              "      </button>\n",
              "      \n",
              "  <style>\n",
              "    .colab-df-container {\n",
              "      display:flex;\n",
              "      flex-wrap:wrap;\n",
              "      gap: 12px;\n",
              "    }\n",
              "\n",
              "    .colab-df-convert {\n",
              "      background-color: #E8F0FE;\n",
              "      border: none;\n",
              "      border-radius: 50%;\n",
              "      cursor: pointer;\n",
              "      display: none;\n",
              "      fill: #1967D2;\n",
              "      height: 32px;\n",
              "      padding: 0 0 0 0;\n",
              "      width: 32px;\n",
              "    }\n",
              "\n",
              "    .colab-df-convert:hover {\n",
              "      background-color: #E2EBFA;\n",
              "      box-shadow: 0px 1px 2px rgba(60, 64, 67, 0.3), 0px 1px 3px 1px rgba(60, 64, 67, 0.15);\n",
              "      fill: #174EA6;\n",
              "    }\n",
              "\n",
              "    [theme=dark] .colab-df-convert {\n",
              "      background-color: #3B4455;\n",
              "      fill: #D2E3FC;\n",
              "    }\n",
              "\n",
              "    [theme=dark] .colab-df-convert:hover {\n",
              "      background-color: #434B5C;\n",
              "      box-shadow: 0px 1px 3px 1px rgba(0, 0, 0, 0.15);\n",
              "      filter: drop-shadow(0px 1px 2px rgba(0, 0, 0, 0.3));\n",
              "      fill: #FFFFFF;\n",
              "    }\n",
              "  </style>\n",
              "\n",
              "      <script>\n",
              "        const buttonEl =\n",
              "          document.querySelector('#df-3a9ebc0b-4915-4989-8a68-884cd05869ee button.colab-df-convert');\n",
              "        buttonEl.style.display =\n",
              "          google.colab.kernel.accessAllowed ? 'block' : 'none';\n",
              "\n",
              "        async function convertToInteractive(key) {\n",
              "          const element = document.querySelector('#df-3a9ebc0b-4915-4989-8a68-884cd05869ee');\n",
              "          const dataTable =\n",
              "            await google.colab.kernel.invokeFunction('convertToInteractive',\n",
              "                                                     [key], {});\n",
              "          if (!dataTable) return;\n",
              "\n",
              "          const docLinkHtml = 'Like what you see? Visit the ' +\n",
              "            '<a target=\"_blank\" href=https://colab.research.google.com/notebooks/data_table.ipynb>data table notebook</a>'\n",
              "            + ' to learn more about interactive tables.';\n",
              "          element.innerHTML = '';\n",
              "          dataTable['output_type'] = 'display_data';\n",
              "          await google.colab.output.renderOutput(dataTable, element);\n",
              "          const docLink = document.createElement('div');\n",
              "          docLink.innerHTML = docLinkHtml;\n",
              "          element.appendChild(docLink);\n",
              "        }\n",
              "      </script>\n",
              "    </div>\n",
              "  </div>\n",
              "  "
            ]
          },
          "metadata": {},
          "execution_count": 47
        }
      ]
    },
    {
      "cell_type": "code",
      "source": [
        "shapiro_stat3, shapiro_p_valor3 = stats.shapiro(df_2021['log_receita_padronizado'])\n",
        "print('O valor da estatística de Shapiro-Wilk = ' + str(shapiro_stat3))\n",
        "print('O valor de p de Shapiro-Wilk = ' + str(shapiro_p_valor3))"
      ],
      "metadata": {
        "colab": {
          "base_uri": "https://localhost:8080/"
        },
        "id": "pYOJVZtFOuIB",
        "outputId": "cd22c0a9-f712-4637-d775-5eef11e79c08"
      },
      "execution_count": 48,
      "outputs": [
        {
          "output_type": "stream",
          "name": "stdout",
          "text": [
            "O valor da estatística de Shapiro-Wilk = 0.7395684123039246\n",
            "O valor de p de Shapiro-Wilk = 1.559972755618913e-23\n"
          ]
        }
      ]
    },
    {
      "cell_type": "markdown",
      "source": [
        "## 4.5 Criando a feature de mês"
      ],
      "metadata": {
        "id": "O48DFo5_QAYU"
      }
    },
    {
      "cell_type": "code",
      "source": [
        "df_2021['mes'] = df_2021['Data'].map(lambda x: x.month)\n",
        "df_2021['ano'] = df_2021['Data'].map(lambda x: x.year)"
      ],
      "metadata": {
        "id": "eDQcmh4xPWSd"
      },
      "execution_count": 49,
      "outputs": []
    },
    {
      "cell_type": "code",
      "source": [
        "df_2021.head()"
      ],
      "metadata": {
        "colab": {
          "base_uri": "https://localhost:8080/",
          "height": 354
        },
        "id": "WZuCZTNUQZ58",
        "outputId": "47e7ec31-5026-4ef9-dbcc-a618ed5ec266"
      },
      "execution_count": 50,
      "outputs": [
        {
          "output_type": "execute_result",
          "data": {
            "text/plain": [
              "           Data  Porcentagem visualizada média (%)  Inscritos  \\\n",
              "2761 2021-01-01                              37.95        688   \n",
              "2762 2021-01-02                              41.04        874   \n",
              "2763 2021-01-03                              40.85        943   \n",
              "2764 2021-01-04                              39.55        910   \n",
              "2765 2021-01-05                              41.20        808   \n",
              "\n",
              "      Vídeos publicados  Visualizações  Sua receita estimada (USD)  \\\n",
              "2761                  1         701429                      720.99   \n",
              "2762                  1         872821                      881.08   \n",
              "2763                  1         918740                      828.14   \n",
              "2764                  0         775319                      791.51   \n",
              "2765                  1         816971                      920.46   \n",
              "\n",
              "      log_receita  log_receita_padronizado  mes   ano  \n",
              "2761         6.58                     0.18    1  2021  \n",
              "2762         6.78                     0.32    1  2021  \n",
              "2763         6.72                     0.28    1  2021  \n",
              "2764         6.67                     0.25    1  2021  \n",
              "2765         6.82                     0.35    1  2021  "
            ],
            "text/html": [
              "\n",
              "  <div id=\"df-1e1c5eff-040f-4a4f-abef-7981c4098b30\">\n",
              "    <div class=\"colab-df-container\">\n",
              "      <div>\n",
              "<style scoped>\n",
              "    .dataframe tbody tr th:only-of-type {\n",
              "        vertical-align: middle;\n",
              "    }\n",
              "\n",
              "    .dataframe tbody tr th {\n",
              "        vertical-align: top;\n",
              "    }\n",
              "\n",
              "    .dataframe thead th {\n",
              "        text-align: right;\n",
              "    }\n",
              "</style>\n",
              "<table border=\"1\" class=\"dataframe\">\n",
              "  <thead>\n",
              "    <tr style=\"text-align: right;\">\n",
              "      <th></th>\n",
              "      <th>Data</th>\n",
              "      <th>Porcentagem visualizada média (%)</th>\n",
              "      <th>Inscritos</th>\n",
              "      <th>Vídeos publicados</th>\n",
              "      <th>Visualizações</th>\n",
              "      <th>Sua receita estimada (USD)</th>\n",
              "      <th>log_receita</th>\n",
              "      <th>log_receita_padronizado</th>\n",
              "      <th>mes</th>\n",
              "      <th>ano</th>\n",
              "    </tr>\n",
              "  </thead>\n",
              "  <tbody>\n",
              "    <tr>\n",
              "      <th>2761</th>\n",
              "      <td>2021-01-01</td>\n",
              "      <td>37.95</td>\n",
              "      <td>688</td>\n",
              "      <td>1</td>\n",
              "      <td>701429</td>\n",
              "      <td>720.99</td>\n",
              "      <td>6.58</td>\n",
              "      <td>0.18</td>\n",
              "      <td>1</td>\n",
              "      <td>2021</td>\n",
              "    </tr>\n",
              "    <tr>\n",
              "      <th>2762</th>\n",
              "      <td>2021-01-02</td>\n",
              "      <td>41.04</td>\n",
              "      <td>874</td>\n",
              "      <td>1</td>\n",
              "      <td>872821</td>\n",
              "      <td>881.08</td>\n",
              "      <td>6.78</td>\n",
              "      <td>0.32</td>\n",
              "      <td>1</td>\n",
              "      <td>2021</td>\n",
              "    </tr>\n",
              "    <tr>\n",
              "      <th>2763</th>\n",
              "      <td>2021-01-03</td>\n",
              "      <td>40.85</td>\n",
              "      <td>943</td>\n",
              "      <td>1</td>\n",
              "      <td>918740</td>\n",
              "      <td>828.14</td>\n",
              "      <td>6.72</td>\n",
              "      <td>0.28</td>\n",
              "      <td>1</td>\n",
              "      <td>2021</td>\n",
              "    </tr>\n",
              "    <tr>\n",
              "      <th>2764</th>\n",
              "      <td>2021-01-04</td>\n",
              "      <td>39.55</td>\n",
              "      <td>910</td>\n",
              "      <td>0</td>\n",
              "      <td>775319</td>\n",
              "      <td>791.51</td>\n",
              "      <td>6.67</td>\n",
              "      <td>0.25</td>\n",
              "      <td>1</td>\n",
              "      <td>2021</td>\n",
              "    </tr>\n",
              "    <tr>\n",
              "      <th>2765</th>\n",
              "      <td>2021-01-05</td>\n",
              "      <td>41.20</td>\n",
              "      <td>808</td>\n",
              "      <td>1</td>\n",
              "      <td>816971</td>\n",
              "      <td>920.46</td>\n",
              "      <td>6.82</td>\n",
              "      <td>0.35</td>\n",
              "      <td>1</td>\n",
              "      <td>2021</td>\n",
              "    </tr>\n",
              "  </tbody>\n",
              "</table>\n",
              "</div>\n",
              "      <button class=\"colab-df-convert\" onclick=\"convertToInteractive('df-1e1c5eff-040f-4a4f-abef-7981c4098b30')\"\n",
              "              title=\"Convert this dataframe to an interactive table.\"\n",
              "              style=\"display:none;\">\n",
              "        \n",
              "  <svg xmlns=\"http://www.w3.org/2000/svg\" height=\"24px\"viewBox=\"0 0 24 24\"\n",
              "       width=\"24px\">\n",
              "    <path d=\"M0 0h24v24H0V0z\" fill=\"none\"/>\n",
              "    <path d=\"M18.56 5.44l.94 2.06.94-2.06 2.06-.94-2.06-.94-.94-2.06-.94 2.06-2.06.94zm-11 1L8.5 8.5l.94-2.06 2.06-.94-2.06-.94L8.5 2.5l-.94 2.06-2.06.94zm10 10l.94 2.06.94-2.06 2.06-.94-2.06-.94-.94-2.06-.94 2.06-2.06.94z\"/><path d=\"M17.41 7.96l-1.37-1.37c-.4-.4-.92-.59-1.43-.59-.52 0-1.04.2-1.43.59L10.3 9.45l-7.72 7.72c-.78.78-.78 2.05 0 2.83L4 21.41c.39.39.9.59 1.41.59.51 0 1.02-.2 1.41-.59l7.78-7.78 2.81-2.81c.8-.78.8-2.07 0-2.86zM5.41 20L4 18.59l7.72-7.72 1.47 1.35L5.41 20z\"/>\n",
              "  </svg>\n",
              "      </button>\n",
              "      \n",
              "  <style>\n",
              "    .colab-df-container {\n",
              "      display:flex;\n",
              "      flex-wrap:wrap;\n",
              "      gap: 12px;\n",
              "    }\n",
              "\n",
              "    .colab-df-convert {\n",
              "      background-color: #E8F0FE;\n",
              "      border: none;\n",
              "      border-radius: 50%;\n",
              "      cursor: pointer;\n",
              "      display: none;\n",
              "      fill: #1967D2;\n",
              "      height: 32px;\n",
              "      padding: 0 0 0 0;\n",
              "      width: 32px;\n",
              "    }\n",
              "\n",
              "    .colab-df-convert:hover {\n",
              "      background-color: #E2EBFA;\n",
              "      box-shadow: 0px 1px 2px rgba(60, 64, 67, 0.3), 0px 1px 3px 1px rgba(60, 64, 67, 0.15);\n",
              "      fill: #174EA6;\n",
              "    }\n",
              "\n",
              "    [theme=dark] .colab-df-convert {\n",
              "      background-color: #3B4455;\n",
              "      fill: #D2E3FC;\n",
              "    }\n",
              "\n",
              "    [theme=dark] .colab-df-convert:hover {\n",
              "      background-color: #434B5C;\n",
              "      box-shadow: 0px 1px 3px 1px rgba(0, 0, 0, 0.15);\n",
              "      filter: drop-shadow(0px 1px 2px rgba(0, 0, 0, 0.3));\n",
              "      fill: #FFFFFF;\n",
              "    }\n",
              "  </style>\n",
              "\n",
              "      <script>\n",
              "        const buttonEl =\n",
              "          document.querySelector('#df-1e1c5eff-040f-4a4f-abef-7981c4098b30 button.colab-df-convert');\n",
              "        buttonEl.style.display =\n",
              "          google.colab.kernel.accessAllowed ? 'block' : 'none';\n",
              "\n",
              "        async function convertToInteractive(key) {\n",
              "          const element = document.querySelector('#df-1e1c5eff-040f-4a4f-abef-7981c4098b30');\n",
              "          const dataTable =\n",
              "            await google.colab.kernel.invokeFunction('convertToInteractive',\n",
              "                                                     [key], {});\n",
              "          if (!dataTable) return;\n",
              "\n",
              "          const docLinkHtml = 'Like what you see? Visit the ' +\n",
              "            '<a target=\"_blank\" href=https://colab.research.google.com/notebooks/data_table.ipynb>data table notebook</a>'\n",
              "            + ' to learn more about interactive tables.';\n",
              "          element.innerHTML = '';\n",
              "          dataTable['output_type'] = 'display_data';\n",
              "          await google.colab.output.renderOutput(dataTable, element);\n",
              "          const docLink = document.createElement('div');\n",
              "          docLink.innerHTML = docLinkHtml;\n",
              "          element.appendChild(docLink);\n",
              "        }\n",
              "      </script>\n",
              "    </div>\n",
              "  </div>\n",
              "  "
            ]
          },
          "metadata": {},
          "execution_count": 50
        }
      ]
    },
    {
      "cell_type": "markdown",
      "source": [
        "### 4.5.1 Funções para testes"
      ],
      "metadata": {
        "id": "wl-srnxThzai"
      }
    },
    {
      "cell_type": "code",
      "source": [
        "# Shapiro wilk - verificar se é normal\n",
        "def e_normal(group):\n",
        "  wval, pval = stats.shapiro(group)\n",
        "  if len(group) > 5000:\n",
        "    if wval <0.05: return False\n",
        "    if pval < 0.05: return False\n",
        "  return True\n",
        "\n",
        "# equal variance test\n",
        "def var_igual(group1,group2):\n",
        "  _,pval = stats.levene(group1,group2)\n",
        "  if pval<0.05: return False\n",
        "  return True\n",
        "\n",
        "def stats_test(group1, group2):\n",
        "  if e_normal(group1) and e_normal(group2):\n",
        "    if var_igual(group1,group2):\n",
        "      print(\"Realizando t-test...\")\n",
        "      return stats.ttest_ind(group1,group2)\n",
        "    print(\"Relizando t-test com variancia diferente...\")\n",
        "    return stats.ttest_ind(group1,group2, equal_var = False)\n",
        "  print(\"Realizando U-Test...\")\n",
        "  return mannwhitneyu(group1,group2)"
      ],
      "metadata": {
        "id": "cpOayfXMh3vo"
      },
      "execution_count": 51,
      "outputs": []
    },
    {
      "cell_type": "markdown",
      "source": [
        "## 4.6 Teste de hipótese: mês de novembro houve ganhos acima da média\n",
        "\n",
        "-> Existe algum período (uma sazonalidade) que o ganho de um influencer é maior em um período do que em outro."
      ],
      "metadata": {
        "id": "yQQDMg8tROsV"
      }
    },
    {
      "cell_type": "markdown",
      "source": [
        "H0 - Não houve diferença nos ganhos em novembro\n",
        "\n",
        "H1 - Houve diferenças nos ganhos em novembro"
      ],
      "metadata": {
        "id": "0YHW8MOTTY22"
      }
    },
    {
      "cell_type": "code",
      "source": [
        "df_2021.groupby(['mes'])['Sua receita estimada (USD)'].mean().plot(kind = \"bar\")"
      ],
      "metadata": {
        "colab": {
          "base_uri": "https://localhost:8080/",
          "height": 309
        },
        "id": "RvIXG8itQbqy",
        "outputId": "3ea4b0f5-65a2-4157-d921-88f9f7fa0228"
      },
      "execution_count": 52,
      "outputs": [
        {
          "output_type": "execute_result",
          "data": {
            "text/plain": [
              "<matplotlib.axes._subplots.AxesSubplot at 0x7fb277b9b590>"
            ]
          },
          "metadata": {},
          "execution_count": 52
        },
        {
          "output_type": "display_data",
          "data": {
            "text/plain": [
              "<Figure size 432x288 with 1 Axes>"
            ],
            "image/png": "[encoded data removed]"
          },
          "metadata": {
            "needs_background": "light"
          }
        }
      ]
    },
    {
      "cell_type": "code",
      "source": [
        "df_2021_nov = df_2021[df_2021['mes'] == 11]"
      ],
      "metadata": {
        "id": "5LVaXiurQu4f"
      },
      "execution_count": 53,
      "outputs": []
    },
    {
      "cell_type": "code",
      "source": [
        "df_2021_nao_nov = df_2021[df_2021['mes'] != 11]"
      ],
      "metadata": {
        "id": "H8xxboSES37B"
      },
      "execution_count": 54,
      "outputs": []
    },
    {
      "cell_type": "markdown",
      "source": [
        "Médias:"
      ],
      "metadata": {
        "id": "FKjJDCDcdRKv"
      }
    },
    {
      "cell_type": "code",
      "source": [
        "print('Média de novembro: ', df_2021_nov['Sua receita estimada (USD)'].mean())\n",
        "print('Média de outros meses: ', df_2021_nao_nov['Sua receita estimada (USD)'].mean())"
      ],
      "metadata": {
        "colab": {
          "base_uri": "https://localhost:8080/"
        },
        "id": "CTTlbEuEdVQm",
        "outputId": "9c2caaa8-ef3f-4fc0-c62b-2756bc91ab90"
      },
      "execution_count": 55,
      "outputs": [
        {
          "output_type": "stream",
          "name": "stdout",
          "text": [
            "Média de novembro:  4215.559666666666\n",
            "Média de outros meses:  1396.0255820895522\n"
          ]
        }
      ]
    },
    {
      "cell_type": "markdown",
      "source": [
        "Testando se a diferença é estatisticamente relevante:"
      ],
      "metadata": {
        "id": "fcuWyPBwTE1p"
      }
    },
    {
      "cell_type": "code",
      "source": [
        "stats_test(df_2021_nov['log_receita_padronizado'],df_2021_nao_nov['log_receita_padronizado'])"
      ],
      "metadata": {
        "colab": {
          "base_uri": "https://localhost:8080/"
        },
        "id": "9BWJxZbhiP3i",
        "outputId": "94f9fe8f-d2ad-4bfa-9c4e-7f644773818f"
      },
      "execution_count": 56,
      "outputs": [
        {
          "output_type": "stream",
          "name": "stdout",
          "text": [
            "Realizando t-test...\n"
          ]
        },
        {
          "output_type": "execute_result",
          "data": {
            "text/plain": [
              "Ttest_indResult(statistic=6.148480606263019, pvalue=2.063233164508811e-09)"
            ]
          },
          "metadata": {},
          "execution_count": 56
        }
      ]
    },
    {
      "cell_type": "markdown",
      "source": [
        "Como p-value < 0.05, rejeita-se H0. Em novembro houve ganhos acima da média."
      ],
      "metadata": {
        "id": "AZ1HFlOfV3xF"
      }
    },
    {
      "cell_type": "markdown",
      "source": [
        "## 4.7 Teste de hipótese: maior número de novos vídeos fez novembro ter o maior ganho\n",
        "\n",
        "-> O número de vídeos postados durante a semana afeta o valor da monetização\n",
        "\n",
        "H0 - No mês com maior qntdade de novos vídeos não houve diferença nos ganhos\n",
        "\n",
        "H1 - No mês com maior qntdade de novos vídeos houve diferença nos ganhos"
      ],
      "metadata": {
        "id": "3MEDuxT2aCWy"
      }
    },
    {
      "cell_type": "code",
      "source": [
        "df_2021.groupby(['mes'])['Vídeos publicados'].mean().plot(kind = \"bar\")"
      ],
      "metadata": {
        "colab": {
          "base_uri": "https://localhost:8080/",
          "height": 311
        },
        "id": "ySf_GyN6YpiE",
        "outputId": "6c16bc65-74a4-4e44-ee1d-ed888d1b9c61"
      },
      "execution_count": 57,
      "outputs": [
        {
          "output_type": "execute_result",
          "data": {
            "text/plain": [
              "<matplotlib.axes._subplots.AxesSubplot at 0x7fb277d07a50>"
            ]
          },
          "metadata": {},
          "execution_count": 57
        },
        {
          "output_type": "display_data",
          "data": {
            "text/plain": [
              "<Figure size 432x288 with 1 Axes>"
            ],
            "image/png": "[encoded data removed]"
          },
          "metadata": {
            "needs_background": "light"
          }
        }
      ]
    },
    {
      "cell_type": "code",
      "source": [
        "#Médias:\n",
        "print('Média de novembro de vídeos publicados: ', df_2021_nov['Vídeos publicados'].mean())\n",
        "print('Média de outros meses de vídeos publicados: ', df_2021_nao_nov['Vídeos publicados'].mean())"
      ],
      "metadata": {
        "colab": {
          "base_uri": "https://localhost:8080/"
        },
        "id": "QMfxvFVzeAZR",
        "outputId": "225df0b2-6bdb-45ab-ec3b-553e20560d60"
      },
      "execution_count": 58,
      "outputs": [
        {
          "output_type": "stream",
          "name": "stdout",
          "text": [
            "Média de novembro de vídeos publicados:  1.4666666666666666\n",
            "Média de outros meses de vídeos publicados:  1.0597014925373134\n"
          ]
        }
      ]
    },
    {
      "cell_type": "markdown",
      "source": [
        "Testando se a diferença é estatisticamente relevante:"
      ],
      "metadata": {
        "id": "gtoXrSGHeNLy"
      }
    },
    {
      "cell_type": "code",
      "source": [
        "stats_test(df_2021_nov['Vídeos publicados'],df_2021_nao_nov['Vídeos publicados'])"
      ],
      "metadata": {
        "colab": {
          "base_uri": "https://localhost:8080/"
        },
        "id": "Mp4f_uB8iXi4",
        "outputId": "8434c898-aae5-4ae5-dc7a-9584249e3624"
      },
      "execution_count": 59,
      "outputs": [
        {
          "output_type": "stream",
          "name": "stdout",
          "text": [
            "Relizando t-test com variancia diferente...\n"
          ]
        },
        {
          "output_type": "execute_result",
          "data": {
            "text/plain": [
              "Ttest_indResult(statistic=4.223054890410921, pvalue=0.0001705804839470374)"
            ]
          },
          "metadata": {},
          "execution_count": 59
        }
      ]
    },
    {
      "cell_type": "markdown",
      "source": [
        "Como p-value < 0.5, rejeita-se H0. Como visto antes, novembro tem ganhos acima da média e também é o mês com maior quantidade de vídeos postados com uma quantidade acima da média."
      ],
      "metadata": {
        "id": "566GER4_biyK"
      }
    },
    {
      "cell_type": "markdown",
      "source": [
        "## 4.7 Teste de hipótese: número de inscritos influenciam no mês com maior ganho"
      ],
      "metadata": {
        "id": "Q2yfOhTEcX2Z"
      }
    },
    {
      "cell_type": "markdown",
      "source": [
        "H0 - No mês com maior ganho não houve diferença nos números de inscritos\n",
        "\n",
        "H1 - No mês com maior ganho houve diferença nos números de inscritos"
      ],
      "metadata": {
        "id": "ZoXTyqJgcyLZ"
      }
    },
    {
      "cell_type": "code",
      "source": [
        "df_2021.groupby(['mes'])['Inscritos'].mean().plot(kind = \"bar\")"
      ],
      "metadata": {
        "colab": {
          "base_uri": "https://localhost:8080/",
          "height": 309
        },
        "id": "0gwSYZTrgXv8",
        "outputId": "a788f5aa-0561-4d2e-8586-0c47766a3825"
      },
      "execution_count": 60,
      "outputs": [
        {
          "output_type": "execute_result",
          "data": {
            "text/plain": [
              "<matplotlib.axes._subplots.AxesSubplot at 0x7fb2776ef190>"
            ]
          },
          "metadata": {},
          "execution_count": 60
        },
        {
          "output_type": "display_data",
          "data": {
            "text/plain": [
              "<Figure size 432x288 with 1 Axes>"
            ],
            "image/png": "[encoded data removed]"
          },
          "metadata": {
            "needs_background": "light"
          }
        }
      ]
    },
    {
      "cell_type": "code",
      "source": [
        "#Médias:\n",
        "print('Média de novembro de inscritos: ', df_2021_nov['Inscritos'].mean())\n",
        "print('Média de outros meses de inscritos: ', df_2021_nao_nov['Inscritos'].mean())"
      ],
      "metadata": {
        "colab": {
          "base_uri": "https://localhost:8080/"
        },
        "id": "6r2ZUC3me2IJ",
        "outputId": "6796d627-8f1e-4062-fd89-d3bd7d325e19"
      },
      "execution_count": 61,
      "outputs": [
        {
          "output_type": "stream",
          "name": "stdout",
          "text": [
            "Média de novembro de inscritos:  346.8666666666667\n",
            "Média de outros meses de inscritos:  918.7283582089552\n"
          ]
        }
      ]
    },
    {
      "cell_type": "markdown",
      "source": [
        "Testando se a diferença é estatisticamente relevante:"
      ],
      "metadata": {
        "id": "4AvleTlnfpH4"
      }
    },
    {
      "cell_type": "code",
      "source": [
        "stats_test(df_2021_nov['Inscritos'], df_2021_nao_nov['Inscritos'])"
      ],
      "metadata": {
        "colab": {
          "base_uri": "https://localhost:8080/"
        },
        "id": "Rwo3dlMTih2j",
        "outputId": "a95c4ea4-a505-40f5-bd51-cb81de070ac8"
      },
      "execution_count": 62,
      "outputs": [
        {
          "output_type": "stream",
          "name": "stdout",
          "text": [
            "Relizando t-test com variancia diferente...\n"
          ]
        },
        {
          "output_type": "execute_result",
          "data": {
            "text/plain": [
              "Ttest_indResult(statistic=-8.330454399534897, pvalue=1.7412808594143885e-15)"
            ]
          },
          "metadata": {},
          "execution_count": 62
        }
      ]
    },
    {
      "cell_type": "markdown",
      "source": [
        "Como p-value < 0.5, rejeita-se H0. O mês de novembro teve um número de inscritos abaixo da média."
      ],
      "metadata": {
        "id": "1fULKQ6JgMN2"
      }
    },
    {
      "cell_type": "markdown",
      "source": [
        "## 4.8 Teste de hipótese: número de visualizações influenciam no mês com maior ganho"
      ],
      "metadata": {
        "id": "P8qIdktfgi2k"
      }
    },
    {
      "cell_type": "markdown",
      "source": [
        "H0 - No mês com maior ganho não houve diferença nas visualizações\n",
        "\n",
        "H1 - No mês com maior ganho houve diferença nas visualizações"
      ],
      "metadata": {
        "id": "GF4YlGLegn8l"
      }
    },
    {
      "cell_type": "code",
      "source": [
        "df_2021.groupby(['mes'])['Visualizações'].mean().plot(kind = \"bar\")"
      ],
      "metadata": {
        "colab": {
          "base_uri": "https://localhost:8080/",
          "height": 326
        },
        "id": "411p20s9glL-",
        "outputId": "5d93e810-a011-4c6e-bb16-67a48a1f1d51"
      },
      "execution_count": 63,
      "outputs": [
        {
          "output_type": "execute_result",
          "data": {
            "text/plain": [
              "<matplotlib.axes._subplots.AxesSubplot at 0x7fb2774ce250>"
            ]
          },
          "metadata": {},
          "execution_count": 63
        },
        {
          "output_type": "display_data",
          "data": {
            "text/plain": [
              "<Figure size 432x288 with 1 Axes>"
            ],
            "image/png": "[encoded data removed]"
          },
          "metadata": {
            "needs_background": "light"
          }
        }
      ]
    },
    {
      "cell_type": "code",
      "source": [
        "#Médias:\n",
        "print('Média de novembro de visualizações: ', df_2021_nov['Visualizações'].mean())\n",
        "print('Média de outros meses de visualizações: ', df_2021_nao_nov['Visualizações'].mean())"
      ],
      "metadata": {
        "colab": {
          "base_uri": "https://localhost:8080/"
        },
        "id": "ShSALBL0g1BF",
        "outputId": "2920a5fb-d368-4852-f0e1-d7e8753930e1"
      },
      "execution_count": 64,
      "outputs": [
        {
          "output_type": "stream",
          "name": "stdout",
          "text": [
            "Média de novembro de visualizações:  565752.5\n",
            "Média de outros meses de visualizações:  767523.1791044776\n"
          ]
        }
      ]
    },
    {
      "cell_type": "markdown",
      "source": [
        "Testando se a diferença é estatisticamente relevante:"
      ],
      "metadata": {
        "id": "D8tpYN_VhKNY"
      }
    },
    {
      "cell_type": "code",
      "source": [
        "stats_test(df_2021_nov['Visualizações'], df_2021_nao_nov['Visualizações'])"
      ],
      "metadata": {
        "colab": {
          "base_uri": "https://localhost:8080/"
        },
        "id": "SU5lbTNLjEgB",
        "outputId": "bf461120-0f60-4076-81a6-6c05011e5539"
      },
      "execution_count": 65,
      "outputs": [
        {
          "output_type": "stream",
          "name": "stdout",
          "text": [
            "Relizando t-test com variancia diferente...\n"
          ]
        },
        {
          "output_type": "execute_result",
          "data": {
            "text/plain": [
              "Ttest_indResult(statistic=-10.592643471415602, pvalue=8.757059611922303e-16)"
            ]
          },
          "metadata": {},
          "execution_count": 65
        }
      ]
    },
    {
      "cell_type": "markdown",
      "source": [
        "Como p-value < 0.5, rejeita-se H0."
      ],
      "metadata": {
        "id": "7-X81-oUhZgR"
      }
    }
  ]
}