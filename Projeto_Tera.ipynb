{
  "nbformat": 4,
  "nbformat_minor": 0,
  "metadata": {
    "colab": {
      "name": "Projeto Tera.ipynb",
      "provenance": [],
      "collapsed_sections": [],
      "authorship_tag": "ABX9TyOeurh2bvhhm2VXr1iC5t4p",
      "include_colab_link": true
    },
    "kernelspec": {
      "name": "python3",
      "display_name": "Python 3"
    },
    "language_info": {
      "name": "python"
    }
  },
  "cells": [
    {
      "cell_type": "markdown",
      "metadata": {
        "id": "view-in-github",
        "colab_type": "text"
      },
      "source": [
        "<a href=\"https://colab.research.google.com/github/casjunior93/demoday-tera-previsao-de-retorno-de-adsense/blob/main/Projeto_Tera.ipynb\" target=\"_parent\"><img src=\"https://colab.research.google.com/assets/colab-badge.svg\" alt=\"Open In Colab\"/></a>"
      ]
    },
    {
      "cell_type": "markdown",
      "source": [
        "Habilitando o acesso ao Google Drive no Colab."
      ],
      "metadata": {
        "id": "zfZEVYN5RV8Q"
      }
    },
    {
      "cell_type": "code",
      "execution_count": null,
      "metadata": {
        "id": "pT0eWMaPJnZ1",
        "colab": {
          "base_uri": "https://localhost:8080/"
        },
        "outputId": "b981c91b-b9fc-4d40-9240-dec0e936b190"
      },
      "outputs": [
        {
          "output_type": "stream",
          "name": "stdout",
          "text": [
            "Mounted at /content/drive\n"
          ]
        }
      ],
      "source": [
        "from google.colab import drive\n",
        "drive.mount('/content/drive')"
      ]
    },
    {
      "cell_type": "markdown",
      "source": [
        "# Bibliotecas fundamentais"
      ],
      "metadata": {
        "id": "WGjkb0TSRenQ"
      }
    },
    {
      "cell_type": "code",
      "source": [
        "import numpy as np\n",
        "import pandas as pd\n",
        "import seaborn as sns\n",
        "import matplotlib.pyplot as plt\n",
        "import warnings\n",
        "warnings.filterwarnings('ignore')\n",
        "\n",
        "#Configura o pandas para não exibir resultados em notação científica\n",
        "pd.options.display.float_format = '{:.2f}'.format"
      ],
      "metadata": {
        "id": "kgT_lu97RZNM"
      },
      "execution_count": null,
      "outputs": []
    },
    {
      "cell_type": "markdown",
      "source": [
        "# Roteiro do Projeto"
      ],
      "metadata": {
        "id": "BjI7ggfBRjCm"
      }
    },
    {
      "cell_type": "markdown",
      "source": [
        "O livro [Mãos à Obra: Aprendizado de Máquina com Scikit-Learn, Keras & TensorFlow](https://www.oreilly.com/library/view/maos-a-obra/9788550803814/) traz uma sugestão de roteiro para orientar um projeto de aprendizado de máquina. Os passos gerais são:\n",
        "\n",
        "1. Abordar o problema e analisar o panorama em geral\n",
        "2. Obter os dados\n",
        "3. Explorar os dados para obter informações úteis\n",
        "4. Preparar os dados para expor melhor os padrões de dados subjacentes aos algoritmos de aprendizado de máquina.\n",
        "5. Explorar modelos diferentes e selecionar os melhores.\n",
        "6. Aperfeiçoar os modelos e os combinar em uma solução ideal.\n",
        "7. Apresentar a solução.\n",
        "8. Implementar, monitorar e fazer a manutenção de seu sistema."
      ],
      "metadata": {
        "id": "ya7dVfIERm67"
      }
    },
    {
      "cell_type": "markdown",
      "source": [
        "# 1: Abordar o problema e analisar o panorama em geral"
      ],
      "metadata": {
        "id": "qHJFjXVuR-Z8"
      }
    },
    {
      "cell_type": "markdown",
      "source": [
        "**Objetivo:** Criar um modelo de previsão para monetização e pagamentos de influenciadores digitais.\n",
        "\n",
        "**Público alvo:** Gestores de Redes Multicanal (MCNs) de criadores do YouTube. \n",
        "\n",
        "**Problema do usuário:** Não existe hoje nenhum modelo de previsão para que gestores de redes multicanal (MCNs) consigam realizar de maneira eficiente a previsão de pagamentos de valores recebidos pela plataforma de monetização do YouTube para canais afiliados e YouTube Creators.\n",
        "\n",
        "**Solução:** Criarmos um modelo de análise para prever o retorno de Adsense baseado no histórico do influenciador.\n",
        "\n"
      ],
      "metadata": {
        "id": "I-Au8ziuVAPr"
      }
    },
    {
      "cell_type": "markdown",
      "source": [
        "# 2: Obter os dados"
      ],
      "metadata": {
        "id": "dsE7i2FNSGGm"
      }
    },
    {
      "cell_type": "code",
      "source": [
        ""
      ],
      "metadata": {
        "id": "EQfO3OLzSJHI"
      },
      "execution_count": null,
      "outputs": []
    },
    {
      "cell_type": "markdown",
      "source": [
        "# 3: Explorar os dados para obter informações úteis"
      ],
      "metadata": {
        "id": "gTm6hAHiSMEM"
      }
    },
    {
      "cell_type": "code",
      "source": [
        ""
      ],
      "metadata": {
        "id": "yKsOriP9SNaa"
      },
      "execution_count": null,
      "outputs": []
    }
  ]
}